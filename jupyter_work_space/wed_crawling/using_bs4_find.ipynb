{
 "cells": [
  {
   "cell_type": "code",
   "execution_count": 15,
   "metadata": {},
   "outputs": [],
   "source": [
    "import requests\n",
    "from bs4 import BeautifulSoup\n",
    "\n",
    "url = 'http://python.cyber.co.kr/pds/books/python2nd/test2.html'\n",
    "response = requests.get(url)\n",
    "bs = BeautifulSoup(response.text, 'html.parser')"
   ]
  },
  {
   "cell_type": "code",
   "execution_count": 16,
   "metadata": {},
   "outputs": [
    {
     "name": "stdout",
     "output_type": "stream",
     "text": [
      "2: 파이썬을 설치해 보자\n",
      "4: HTML을 해석해 보자\n",
      "6: 링크 목록을 파일로 출력해 보자\n"
     ]
    }
   ],
   "source": [
    "for seq, tag in enumerate(bs.find_all('li'),start=1):\n",
    "    if seq % 2 == 0:\n",
    "        print(f'{seq}: {tag.text}')"
   ]
  },
  {
   "cell_type": "code",
   "execution_count": 17,
   "metadata": {},
   "outputs": [
    {
     "name": "stdout",
     "output_type": "stream",
     "text": [
      " C ����̺��� ����: Windows\n",
      " ���� �Ϸ� ��ȣ: D4A1-ACCC\n",
      "\n",
      " c:\\Users\\Medici\\jupyter_work_space\\wed_crawling ���͸�\n",
      "\n",
      "2023-04-24  ���� 01:24    <DIR>          .\n",
      "2023-04-24  ���� 01:24    <DIR>          ..\n",
      "2023-04-21  ���� 04:30               471 beauty.py\n",
      "2023-04-21  ���� 01:54               202 encoding.py\n",
      "2023-04-21  ���� 03:20               350 html.txt\n",
      "2023-04-24  ���� 01:28               113 result.txt\n",
      "2023-04-21  ���� 05:41               512 rqes copy.py\n",
      "2023-04-21  ���� 03:19               442 rqes.py\n",
      "2023-04-21  ���� 01:43             2,707 scriping_test_01.ipynb\n",
      "2023-04-21  ���� 02:32             1,796 scriping_test_01_request.ipynb\n",
      "2023-04-21  ���� 05:57               816 using_bs4_find copy.py\n",
      "2023-04-24  ���� 01:24               256 using_bs4_find.ipynb\n",
      "2023-04-21  ���� 05:38             1,223 using_bs4_find.py\n",
      "              11�� ����               8,888 ����Ʈ\n",
      "               2�� ���͸�  400,848,109,568 ����Ʈ ����\n"
     ]
    }
   ],
   "source": [
    "file_path = './result.txt' \n",
    "!dir        #현재디렉토리 확인"
   ]
  },
  {
   "cell_type": "code",
   "execution_count": 18,
   "metadata": {},
   "outputs": [
    {
     "data": {
      "text/plain": [
       "['2: 파이썬을 설치해 보자\\n', '4: HTML을 해석해 보자\\n', '6: 링크 목록을 파일로 출력해 보자\\n']"
      ]
     },
     "execution_count": 18,
     "metadata": {},
     "output_type": "execute_result"
    }
   ],
   "source": [
    "result = []\n",
    "for seq, tag in enumerate(bs.find_all('li'),start=1):\n",
    "    if seq % 2 == 0:\n",
    "        result.append(f'{seq}: {tag.text}\\n'.replace(u'\\xa0', u' '))\n",
    "result"
   ]
  },
  {
   "cell_type": "code",
   "execution_count": 19,
   "metadata": {},
   "outputs": [
    {
     "data": {
      "text/plain": [
       "['2: 파이썬을 설치해 보자\\n', '4: HTML을 해석해 보자\\n', '6: 링크 목록을 파일로 출력해 보자\\n']"
      ]
     },
     "execution_count": 19,
     "metadata": {},
     "output_type": "execute_result"
    }
   ],
   "source": [
    "#for 루프보다 빠른다.\n",
    "result = [f'{seq}: {tag.text}\\n'.replace(u'\\xa0', u' ')\n",
    "          for seq, tag in enumerate(bs.find_all('li'),start=1) if seq % 2 ==0]\n",
    "result"
   ]
  },
  {
   "cell_type": "code",
   "execution_count": 20,
   "metadata": {},
   "outputs": [],
   "source": [
    "with open(file_path, 'w', encoding='utf=8') as f:\n",
    "    f.writelines(result)"
   ]
  },
  {
   "cell_type": "code",
   "execution_count": 28,
   "metadata": {},
   "outputs": [
    {
     "data": {
      "text/plain": [
       "<div id=\"chap2\">\n",
       "<h2>제2장 HTML을 해석해 보자</h2>\n",
       "<ol>\n",
       "<li>HTML을 해석해 보자</li>\n",
       "<li>최신 뉴스 목록을 구해 보자</li>\n",
       "<li>링크 목록을 파일로 출력해 보자</li>\n",
       "<li>이미지를 한꺼번에 다운로드해 보자</li>\n",
       "</ol>\n",
       "</div>"
      ]
     },
     "execution_count": 28,
     "metadata": {},
     "output_type": "execute_result"
    }
   ],
   "source": [
    "bs.find(id='chap2')     # 그냥나옴"
   ]
  },
  {
   "cell_type": "code",
   "execution_count": 27,
   "metadata": {},
   "outputs": [
    {
     "data": {
      "text/plain": [
       "[<div id=\"chap2\">\n",
       " <h2>제2장 HTML을 해석해 보자</h2>\n",
       " <ol>\n",
       " <li>HTML을 해석해 보자</li>\n",
       " <li>최신 뉴스 목록을 구해 보자</li>\n",
       " <li>링크 목록을 파일로 출력해 보자</li>\n",
       " <li>이미지를 한꺼번에 다운로드해 보자</li>\n",
       " </ol>\n",
       " </div>]"
      ]
     },
     "execution_count": 27,
     "metadata": {},
     "output_type": "execute_result"
    }
   ],
   "source": [
    "bs.find_all(id='chap2')     #리스트않에 넣어둠      "
   ]
  },
  {
   "cell_type": "code",
   "execution_count": 34,
   "metadata": {},
   "outputs": [
    {
     "data": {
      "text/plain": [
       "[<li>HTML을 해석해 보자</li>,\n",
       " <li>최신 뉴스 목록을 구해 보자</li>,\n",
       " <li>링크 목록을 파일로 출력해 보자</li>,\n",
       " <li>이미지를 한꺼번에 다운로드해 보자</li>]"
      ]
     },
     "execution_count": 34,
     "metadata": {},
     "output_type": "execute_result"
    }
   ],
   "source": [
    "bs.find(id='chap2').find_all('li')"
   ]
  },
  {
   "cell_type": "code",
   "execution_count": 35,
   "metadata": {},
   "outputs": [
    {
     "name": "stdout",
     "output_type": "stream",
     "text": [
      "HTML을 해석해 보자\n",
      "최신 뉴스 목록을 구해 보자\n",
      "링크 목록을 파일로 출력해 보자\n",
      "이미지를 한꺼번에 다운로드해 보자\n"
     ]
    }
   ],
   "source": [
    "for li in bs.find(id='chap2').find_all('li'):\n",
    "    print(li.text)"
   ]
  },
  {
   "cell_type": "code",
   "execution_count": null,
   "metadata": {},
   "outputs": [],
   "source": []
  }
 ],
 "metadata": {
  "kernelspec": {
   "display_name": "'Web_Croawling'",
   "language": "python",
   "name": "wed_crawling"
  },
  "language_info": {
   "codemirror_mode": {
    "name": "ipython",
    "version": 3
   },
   "file_extension": ".py",
   "mimetype": "text/x-python",
   "name": "python",
   "nbconvert_exporter": "python",
   "pygments_lexer": "ipython3",
   "version": "3.8.16"
  },
  "orig_nbformat": 4
 },
 "nbformat": 4,
 "nbformat_minor": 2
}
