{
 "cells": [
  {
   "cell_type": "code",
   "execution_count": 1,
   "metadata": {},
   "outputs": [
    {
     "name": "stdout",
     "output_type": "stream",
     "text": [
      "4.9.0\n",
      "3.8.6\n"
     ]
    }
   ],
   "source": [
    "import pprint\n",
    "import numpy as np\n",
    "import pandas as pd\n",
    "import matplotlib.pyplot as plt\n",
    "from matplotlib import font_manager\n",
    "import time\n",
    "\n",
    "font_fname = 'C:/Windows/Fonts/malgun.ttf'\n",
    "font_family = font_manager.FontProperties(fname=font_fname).get_name()\n",
    "\n",
    "plt.rcParams[\"font.family\"] = font_family\n",
    "plt.rcParams['axes.unicode_minus'] = False \n",
    "\n",
    "import selenium\n",
    "from selenium import webdriver\n",
    "from selenium.webdriver.chrome.service import Service as ChromeService\n",
    "from selenium.webdriver.chrome.options import Options\n",
    "from selenium.webdriver.common.by import By\n",
    "from selenium.webdriver.common.action_chains import ActionChains\n",
    "from selenium.webdriver.common.keys import Keys\n",
    "from selenium.webdriver.common.desired_capabilities import DesiredCapabilities\n",
    "from selenium.webdriver.support import expected_conditions as EC\n",
    "from selenium.webdriver.support.wait import WebDriverWait\n",
    "from selenium.webdriver.support.select import Select\n",
    "from selenium import webdriver\n",
    "\n",
    "\n",
    "import webdriver_manager\n",
    "from webdriver_manager.chrome import ChromeDriverManager\n",
    "\n",
    "print(selenium.__version__)\n",
    "print(webdriver_manager.__version__)"
   ]
  },
  {
   "cell_type": "code",
   "execution_count": 9,
   "metadata": {},
   "outputs": [
    {
     "ename": "TypeError",
     "evalue": "'str' object is not callable",
     "output_type": "error",
     "traceback": [
      "\u001b[1;31m---------------------------------------------------------------------------\u001b[0m",
      "\u001b[1;31mTypeError\u001b[0m                                 Traceback (most recent call last)",
      "Cell \u001b[1;32mIn[9], line 38\u001b[0m\n\u001b[0;32m     35\u001b[0m checkbox \u001b[39m=\u001b[39m wait\u001b[39m.\u001b[39muntil(EC\u001b[39m.\u001b[39minvisibility_of_element_located((By\u001b[39m.\u001b[39mCSS_SELECTOR, \u001b[39m\"\u001b[39m\u001b[39mm-mec-loader\u001b[39m\u001b[39m\"\u001b[39m)))\n\u001b[0;32m     37\u001b[0m \u001b[39m# click the button after the checkbox disappears\u001b[39;00m\n\u001b[1;32m---> 38\u001b[0m button \u001b[39m=\u001b[39m wait\u001b[39m.\u001b[39;49muntil(By\u001b[39m.\u001b[39;49mCSS_SELECTOR, \u001b[39m\"\u001b[39;49m\u001b[39m#panel-1023-body > div:nth-child(8) > div.dock_inner > div.dock_title.doc_title_selected.mec-report-titlebar > div.dock_title_btnarea > div.dock_button.dock_exp_excel_button\u001b[39;49m\u001b[39m\"\u001b[39;49m)\n\u001b[0;32m     39\u001b[0m button\u001b[39m.\u001b[39mclick()\n\u001b[0;32m     40\u001b[0m driver\u001b[39m.\u001b[39mimplicitly_wait(\u001b[39m30\u001b[39m)\n",
      "File \u001b[1;32mc:\\Users\\Medici\\miniconda3\\envs\\web_crawling\\lib\\site-packages\\selenium\\webdriver\\support\\wait.py:86\u001b[0m, in \u001b[0;36mWebDriverWait.until\u001b[1;34m(self, method, message)\u001b[0m\n\u001b[0;32m     84\u001b[0m \u001b[39mwhile\u001b[39;00m \u001b[39mTrue\u001b[39;00m:\n\u001b[0;32m     85\u001b[0m     \u001b[39mtry\u001b[39;00m:\n\u001b[1;32m---> 86\u001b[0m         value \u001b[39m=\u001b[39m method(\u001b[39mself\u001b[39;49m\u001b[39m.\u001b[39;49m_driver)\n\u001b[0;32m     87\u001b[0m         \u001b[39mif\u001b[39;00m value:\n\u001b[0;32m     88\u001b[0m             \u001b[39mreturn\u001b[39;00m value\n",
      "\u001b[1;31mTypeError\u001b[0m: 'str' object is not callable"
     ]
    }
   ],
   "source": [
    "service = ChromeService(executable_path=ChromeDriverManager().install())\n",
    "options = Options()\n",
    "options.add_argument(\"--headless\")\n",
    "# 데이터를 많이 요청할경우 agent라는걸 알려주는 메시지를 보냄\n",
    "options.add_argument(\"user-agent=Mozilla/5.0 (Windows NT 10.0; Win64; x64) AppleWebKit/537.36 (KHTML, like Gecko) Chrome/112.0.0.0 Safari/537.36\")\n",
    "driver = webdriver.Chrome(service=service, options=options)\n",
    "\n",
    "driver.get(\"http://opendata.hira.or.kr/op/opc/olapMsupInfo.do\")\n",
    "driver.set_window_size(974, 1040)\n",
    "links = [\"약국 직접/처방 조제\",\"약효분류별\"]\n",
    "for j in links:\n",
    "    driver.find_element(By.LINK_TEXT, j).click()\n",
    "    driver.switch_to.frame(driver.find_element(By.CSS_SELECTOR, \"div.olap-box > iframe\"))\n",
    "    driver.implicitly_wait(60)\n",
    "\n",
    "    for i in range(10, 20, 3):\n",
    "        driver.find_element(By.CSS_SELECTOR, \"table > tbody > tr > td > div:nth-child(4) > div > input:nth-child(2)\").click()\n",
    "        dropdown = driver.find_elements(By.CSS_SELECTOR, \"div.ui-datepicker-header.ui-widget-header.ui-helper-clearfix.ui-corner-all.mtz-monthpicker\")\n",
    "        dropdown[0].find_element(By.XPATH, f\"//option[. = '20{i}']\").click()\n",
    "        driver.find_element(By.CSS_SELECTOR, \"table.mtz-monthpicker tbody tr:nth-of-type(1) td:nth-of-type(1)\").click()\n",
    "\n",
    "\n",
    "        driver.find_element(By.CSS_SELECTOR, \"table > tbody > tr > td > div:nth-child(4) > div > input:nth-child(4)\").click()\n",
    "        elements = driver.find_elements(By.CSS_SELECTOR, \".mtz-monthpicker.mtz-monthpicker-year\")\n",
    "        select = Select(elements[1])\n",
    "        select.select_by_visible_text(f\"20{i+2}\")\n",
    "\n",
    "        table = driver.find_elements(By.CSS_SELECTOR, 'table.mtz-monthpicker')[-1]\n",
    "        december = WebDriverWait(table, 10).until(EC.presence_of_element_located((By.CSS_SELECTOR, 'td[data-month=\"12\"]')))\n",
    "        december.click()\n",
    "\n",
    "        driver.find_element(By.CSS_SELECTOR, \"#ext-gen1316 > table > tbody > tr > td > div.dt-btn-search > span\").click()\n",
    "        time.sleep(90)\n",
    "        driver.find_element(By.CSS_SELECTOR, \"#panel-1023-body > div:nth-child(8) > div.dock_inner > div.dock_title.doc_title_selected.mec-report-titlebar > div.dock_title_btnarea > div.dock_button.dock_exp_excel_button\").click()\n",
    "        driver.implicitly_wait(30)\n",
    "        \n",
    "    driver.find_element(By.CSS_SELECTOR, \"table > tbody > tr > td > div:nth-child(4) > div > input:nth-child(2)\").click()\n",
    "    dropdown = driver.find_elements(By.CSS_SELECTOR, \"div.ui-datepicker-header.ui-widget-header.ui-helper-clearfix.ui-corner-all.mtz-monthpicker\")\n",
    "    dropdown[0].find_element(By.XPATH, f\"//option[. = '2022']\").click()\n",
    "    driver.find_element(By.CSS_SELECTOR, \"table.mtz-monthpicker tbody tr:nth-of-type(1) td:nth-of-type(1)\").click()\n",
    "\n",
    "\n",
    "    driver.find_element(By.CSS_SELECTOR, \"table > tbody > tr > td > div:nth-child(4) > div > input:nth-child(4)\").click()\n",
    "    elements = driver.find_elements(By.CSS_SELECTOR, \".mtz-monthpicker.mtz-monthpicker-year\")\n",
    "    select = Select(elements[1])\n",
    "    select.select_by_visible_text(f\"2023\")\n",
    "\n",
    "    table = driver.find_elements(By.CSS_SELECTOR, 'table.mtz-monthpicker')[-1]\n",
    "    december = WebDriverWait(table, 10).until(EC.presence_of_element_located((By.CSS_SELECTOR, 'td[data-month=\"12\"]')))\n",
    "    december.click()\n",
    "\n",
    "    driver.find_element(By.CSS_SELECTOR, \"#ext-gen1316 > table > tbody > tr > td > div.dt-btn-search > span\").click()\n",
    "    time.sleep(90)\n",
    "    driver.find_element(By.CSS_SELECTOR, \"#panel-1023-body > div:nth-child(8) > div.dock_inner > div.dock_title.doc_title_selected.mec-report-titlebar > div.dock_title_btnarea > div.dock_button.dock_exp_excel_button\").click()\n",
    "\n",
    "driver.close()\n",
    "driver.quit()"
   ]
  }
 ],
 "metadata": {
  "kernelspec": {
   "display_name": "'Web_Croawling'",
   "language": "python",
   "name": "wed_crawling"
  },
  "language_info": {
   "codemirror_mode": {
    "name": "ipython",
    "version": 3
   },
   "file_extension": ".py",
   "mimetype": "text/x-python",
   "name": "python",
   "nbconvert_exporter": "python",
   "pygments_lexer": "ipython3",
   "version": "3.8.16"
  },
  "orig_nbformat": 4
 },
 "nbformat": 4,
 "nbformat_minor": 2
}
