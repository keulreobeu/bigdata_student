{
 "cells": [
  {
   "cell_type": "code",
   "execution_count": 2,
   "metadata": {},
   "outputs": [
    {
     "name": "stdout",
     "output_type": "stream",
     "text": [
      "4.9.0\n",
      "3.8.6\n"
     ]
    }
   ],
   "source": [
    "# 그냥 설치하면 3버전이 설치됨\n",
    "# conda install -c conda-forge selenium\n",
    "# conda install -c conda-forge webdriver-manager\n",
    "\n",
    "import selenium\n",
    "from selenium import webdriver\n",
    "from selenium.webdriver.chrome.service import Service as ChromeService\n",
    "from selenium.webdriver.chrome.options import Options\n",
    "from selenium.webdriver.common.by import By\n",
    "\n",
    "import webdriver_manager\n",
    "from webdriver_manager.chrome import ChromeDriverManager\n",
    "\n",
    "print(selenium.__version__)\n",
    "print(webdriver_manager.__version__)"
   ]
  },
  {
   "cell_type": "code",
   "execution_count": 4,
   "metadata": {},
   "outputs": [
    {
     "name": "stdout",
     "output_type": "stream",
     "text": [
      "<class 'selenium.webdriver.remote.webelement.WebElement'>\n",
      "<selenium.webdriver.remote.webelement.WebElement (session=\"96ce5dbf5e0624cdd232ba3499073d60\", element=\"f0bde607-5055-4091-9fc8-6ee8fc5fbc8d\")>\n",
      "<class 'str'>\n",
      "div\n",
      "<class 'str'>\n",
      "Welcome to Wikipedia,\n",
      "the free encyclopedia that anyone can edit.\n",
      "6,650,795 articles in English\n"
     ]
    }
   ],
   "source": [
    "service = ChromeService(executable_path=ChromeDriverManager().install())\n",
    "options = Options()\n",
    "# headless 가 있으면 크롬이 안켜짐\n",
    "options.add_argument(\"--headless\")\n",
    "driver = webdriver.Chrome(service=service, options=options)\n",
    "\n",
    "driver.get(\"https://en.wikipedia.org/wiki/Main_Page\")\n",
    "\n",
    "# 두가지를 많이씀 selector, xpath\n",
    "# element = browser.find_element(by=By.CSS_SELECTOR, value=\"#mp-welcomecount\")\n",
    "element = driver.find_element(by=By.XPATH, value='//*[@id=\"mp-welcomecount\"]')\n",
    "\n",
    "print(type(element))\n",
    "print(element)\n",
    "print(type(element.tag_name))\n",
    "print(element.tag_name)\n",
    "print(type(element.text))\n",
    "print(element.text)\n",
    "\n",
    "driver.close()\n",
    "driver.quit()"
   ]
  },
  {
   "cell_type": "code",
   "execution_count": null,
   "metadata": {},
   "outputs": [],
   "source": []
  }
 ],
 "metadata": {
  "kernelspec": {
   "display_name": "'Web_Croawling'",
   "language": "python",
   "name": "wed_crawling"
  },
  "language_info": {
   "codemirror_mode": {
    "name": "ipython",
    "version": 3
   },
   "file_extension": ".py",
   "mimetype": "text/x-python",
   "name": "python",
   "nbconvert_exporter": "python",
   "pygments_lexer": "ipython3",
   "version": "3.8.16"
  },
  "orig_nbformat": 4
 },
 "nbformat": 4,
 "nbformat_minor": 2
}
