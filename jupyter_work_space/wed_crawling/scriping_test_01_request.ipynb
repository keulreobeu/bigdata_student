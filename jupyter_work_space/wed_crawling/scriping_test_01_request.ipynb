{
 "cells": [
  {
   "cell_type": "code",
   "execution_count": null,
   "metadata": {},
   "outputs": [
    {
     "name": "stdout",
     "output_type": "stream",
     "text": [
      "<Response [200]>\n",
      "<!DOCTYPE html>\n",
      "<html>\n",
      "\t<head>\n",
      "\t\t<meta charset=\"UTF-8\">\n",
      "\t\t<title>파이썬 2학년</title>\n",
      "\t</head>\n",
      "\t<body>\n",
      "\t\t<h2>제1장 파이썬으로 데이터를 다운로드</h2>\n",
      "\t\t<ol>\n",
      "\t\t\t<li>스크래핑이 뭐지?</li>\n",
      "\t\t\t<li>파이썬을 설치해 보자</li>\n",
      "\t\t\t<li>requests로 액세스해 보자</li>\n",
      "\t\t</ol>\n",
      "\t</body>\n",
      "</html>\n"
     ]
    }
   ],
   "source": [
    "import requests\n",
    "\n",
    "url = 'http://python.cyber.co.kr/pds/books/python2nd/test1.html'\n",
    "\n",
    "response = requests.get(url)\n",
    "\n",
    "#response.encoding = response.apparent_encoding      # apparent_encoding은 header에서 인코딩정보를 가져옴\n",
    "\n",
    "\n",
    "print(response)\n",
    "print(response.text)"
   ]
  },
  {
   "attachments": {},
   "cell_type": "markdown",
   "metadata": {},
   "source": [
    "# heading1\n",
    "## heading2\n",
    "### heading3\n",
    "#### heading4\n",
    "##### heading5"
   ]
  }
 ],
 "metadata": {
  "kernelspec": {
   "display_name": "'Web_Croawling'",
   "language": "python",
   "name": "wed_crawling"
  },
  "language_info": {
   "codemirror_mode": {
    "name": "ipython",
    "version": 3
   },
   "file_extension": ".py",
   "mimetype": "text/x-python",
   "name": "python",
   "nbconvert_exporter": "python",
   "pygments_lexer": "ipython3",
   "version": "3.8.16"
  },
  "orig_nbformat": 4
 },
 "nbformat": 4,
 "nbformat_minor": 2
}
