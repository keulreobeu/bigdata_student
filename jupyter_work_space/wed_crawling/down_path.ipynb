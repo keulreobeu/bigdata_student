{
 "cells": [
  {
   "cell_type": "code",
   "execution_count": 8,
   "metadata": {},
   "outputs": [],
   "source": [
    "# 모듈 임포트\n",
    "import requests\n",
    "from bs4 import BeautifulSoup\n",
    "from pathlib import Path\n",
    "import urllib\n",
    "import time"
   ]
  },
  {
   "cell_type": "code",
   "execution_count": 9,
   "metadata": {},
   "outputs": [],
   "source": [
    "# url과 request로 불러오고 bs4에 연결\n",
    "url = 'http://python.cyber.co.kr/pds/books/python2nd/test2.html'\n",
    "html = requests.get(url)\n",
    "bs = BeautifulSoup(html.content, 'html.parser')"
   ]
  },
  {
   "cell_type": "code",
   "execution_count": 10,
   "metadata": {},
   "outputs": [],
   "source": [
    "# 파일을 담을 폴더 생성\n",
    "out_forder = Path('downrode')\n",
    "out_forder.mkdir(exist_ok=True)     # False이면 기존에 파일이 있다면 에러가 나온다."
   ]
  },
  {
   "cell_type": "code",
   "execution_count": 11,
   "metadata": {},
   "outputs": [
    {
     "name": "stdout",
     "output_type": "stream",
     "text": [
      "<img src=\"http://python.cyber.co.kr/pds/books/python2nd/sample1.png\"/>\n",
      "<img src=\"./sample2.png\"/>\n",
      "<img src=\"./sample3.png\"/>\n"
     ]
    }
   ],
   "source": [
    "for con in bs.find_all('img'):\n",
    "    src = con.get('src')\n",
    "    print(con)"
   ]
  },
  {
   "cell_type": "code",
   "execution_count": 12,
   "metadata": {},
   "outputs": [
    {
     "name": "stdout",
     "output_type": "stream",
     "text": [
      "http://python.cyber.co.kr/pds/books/python2nd/sample1.png\n",
      "http://python.cyber.co.kr/pds/books/python2nd/sample2.png\n",
      "http://python.cyber.co.kr/pds/books/python2nd/sample3.png\n"
     ]
    }
   ],
   "source": [
    "#파일을 받아오고 파일이름을 정하여 파일 저장하기\n",
    "\n",
    "# 이미지 파일을 찾기\n",
    "for con in bs.find_all('img'):\n",
    "    # 이미지 파일 경로를 받은 후 저장하기.\n",
    "    src = con.get('src')\n",
    "    # 받은 url중 절대와 상대경로가 있기 떄문에 urlib를 사용해 절대경로만들어 이미지 가저오기\n",
    "    image_url = urllib.parse.urljoin(url, src)\n",
    "    imgdata = requests.get(image_url)\n",
    "    print(image_url)\n",
    "    \n",
    "    # 파일이름 만들기, url의 끝을 스플릿으로 가져오기\n",
    "    filename = image_url.split('/')[-1]\n",
    "    # joinpath를 이용해 파일경로와 이름을 설정\n",
    "    out_path = out_forder.joinpath(filename)\n",
    "    \n",
    "    # 파일만들기.\n",
    "    with open(out_path, mode='wb') as f:\n",
    "        f.write(imgdata.content)\n",
    "        \n",
    "    time.sleep(1)"
   ]
  },
  {
   "cell_type": "code",
   "execution_count": null,
   "metadata": {},
   "outputs": [],
   "source": []
  }
 ],
 "metadata": {
  "kernelspec": {
   "display_name": "'Web_Croawling'",
   "language": "python",
   "name": "wed_crawling"
  },
  "language_info": {
   "codemirror_mode": {
    "name": "ipython",
    "version": 3
   },
   "file_extension": ".py",
   "mimetype": "text/x-python",
   "name": "python",
   "nbconvert_exporter": "python",
   "pygments_lexer": "ipython3",
   "version": "3.8.16"
  },
  "orig_nbformat": 4
 },
 "nbformat": 4,
 "nbformat_minor": 2
}
