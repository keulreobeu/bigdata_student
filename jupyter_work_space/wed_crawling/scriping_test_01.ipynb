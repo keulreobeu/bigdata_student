{
 "cells": [
  {
   "cell_type": "code",
   "execution_count": 4,
   "metadata": {},
   "outputs": [
    {
     "name": "stdout",
     "output_type": "stream",
     "text": [
      "b'<!DOCTYPE html>\\r\\n<html>\\r\\n\\t<head>\\r\\n\\t\\t<meta charset=\"UTF-8\">\\r\\n\\t\\t<title>\\xed\\x8c\\x8c\\xec\\x9d\\xb4\\xec\\x8d\\xac 2\\xed\\x95\\x99\\xeb\\x85\\x84</title>\\r\\n\\t</head>\\r\\n\\t<body>\\r\\n\\t\\t<h2>\\xec\\xa0\\x9c1\\xec\\x9e\\xa5 \\xed\\x8c\\x8c\\xec\\x9d\\xb4\\xec\\x8d\\xac\\xec\\x9c\\xbc\\xeb\\xa1\\x9c \\xeb\\x8d\\xb0\\xec\\x9d\\xb4\\xed\\x84\\xb0\\xeb\\xa5\\xbc \\xeb\\x8b\\xa4\\xec\\x9a\\xb4\\xeb\\xa1\\x9c\\xeb\\x93\\x9c</h2>\\r\\n\\t\\t<ol>\\r\\n\\t\\t\\t<li>\\xec\\x8a\\xa4\\xed\\x81\\xac\\xeb\\x9e\\x98\\xed\\x95\\x91\\xec\\x9d\\xb4 \\xeb\\xad\\x90\\xec\\xa7\\x80?</li>\\r\\n\\t\\t\\t<li>\\xed\\x8c\\x8c\\xec\\x9d\\xb4\\xec\\x8d\\xac\\xec\\x9d\\x84 \\xec\\x84\\xa4\\xec\\xb9\\x98\\xed\\x95\\xb4 \\xeb\\xb3\\xb4\\xec\\x9e\\x90</li>\\r\\n\\t\\t\\t<li>requests\\xeb\\xa1\\x9c \\xec\\x95\\xa1\\xec\\x84\\xb8\\xec\\x8a\\xa4\\xed\\x95\\xb4 \\xeb\\xb3\\xb4\\xec\\x9e\\x90</li>\\r\\n\\t\\t</ol>\\r\\n\\t</body>\\r\\n</html>'\n",
      "<!DOCTYPE html>\n",
      "<html>\n",
      "\t<head>\n",
      "\t\t<meta charset=\"UTF-8\">\n",
      "\t\t<title>파이썬 2학년</title>\n",
      "\t</head>\n",
      "\t<body>\n",
      "\t\t<h2>제1장 파이썬으로 데이터를 다운로드</h2>\n",
      "\t\t<ol>\n",
      "\t\t\t<li>스크래핑이 뭐지?</li>\n",
      "\t\t\t<li>파이썬을 설치해 보자</li>\n",
      "\t\t\t<li>requests로 액세스해 보자</li>\n",
      "\t\t</ol>\n",
      "\t</body>\n",
      "</html>\n"
     ]
    }
   ],
   "source": [
    "from urllib.request import urlopen\n",
    "\n",
    "url = 'http://python.cyber.co.kr/pds/books/python2nd/test1.html'\n",
    "respose = urlopen(url)\n",
    "html_doc = respose.read()\n",
    "print(html_doc)     # 바이트 단위(16진법, 16진법은 3글자로 되어있고 x뒤의 2글자가 1바이트임)로 되있어서 그냥 읽을수는 없음 디코딩이 필요함.\n",
    "print(html_doc.decode('utf-8'))"
   ]
  },
  {
   "cell_type": "code",
   "execution_count": null,
   "metadata": {},
   "outputs": [],
   "source": []
  }
 ],
 "metadata": {
  "kernelspec": {
   "display_name": "'Web_Croawling'",
   "language": "python",
   "name": "wed_crawling"
  },
  "language_info": {
   "codemirror_mode": {
    "name": "ipython",
    "version": 3
   },
   "file_extension": ".py",
   "mimetype": "text/x-python",
   "name": "python",
   "nbconvert_exporter": "python",
   "pygments_lexer": "ipython3",
   "version": "3.8.16"
  },
  "orig_nbformat": 4
 },
 "nbformat": 4,
 "nbformat_minor": 2
}
