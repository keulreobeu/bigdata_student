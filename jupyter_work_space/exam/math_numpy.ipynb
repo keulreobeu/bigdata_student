{
 "cells": [
  {
   "cell_type": "code",
   "execution_count": 10,
   "metadata": {},
   "outputs": [],
   "source": [
    "import numpy as np"
   ]
  },
  {
   "cell_type": "markdown",
   "metadata": {},
   "source": [
    "* 각 과목별 점수는 5점 단위로 40점 ~ 90점 사이의 점수를 가집니다.\n",
    "* numpy.random 모듈의 choice 함수를 이용해 학생 30명의 4개 과목 점수를 생성해 행렬을 생성합니다.\n",
    "* 이 때, 난수의 시드(seed) 값은 42로 지정합니다."
   ]
  },
  {
   "cell_type": "code",
   "execution_count": 11,
   "metadata": {},
   "outputs": [
    {
     "data": {
      "text/plain": [
       "array([[70, 55, 90, 75],\n",
       "       [60, 70, 85, 50],\n",
       "       [70, 90, 90, 75],\n",
       "       [60, 55, 75, 75],\n",
       "       [50, 65, 60, 45],\n",
       "       [75, 65, 45, 60],\n",
       "       [40, 85, 65, 80],\n",
       "       [40, 90, 90, 85],\n",
       "       [50, 70, 55, 80],\n",
       "       [50, 60, 50, 70],\n",
       "       [60, 80, 70, 45],\n",
       "       [55, 80, 45, 85],\n",
       "       [80, 85, 60, 45],\n",
       "       [55, 70, 75, 50],\n",
       "       [40, 55, 45, 75],\n",
       "       [55, 45, 65, 65],\n",
       "       [85, 55, 65, 45],\n",
       "       [85, 45, 85, 55],\n",
       "       [75, 70, 80, 75],\n",
       "       [60, 45, 60, 75],\n",
       "       [85, 80, 80, 40],\n",
       "       [80, 70, 80, 75],\n",
       "       [40, 75, 75, 90],\n",
       "       [50, 40, 75, 50],\n",
       "       [50, 40, 90, 60],\n",
       "       [85, 70, 85, 80],\n",
       "       [70, 80, 75, 45],\n",
       "       [40, 70, 70, 75],\n",
       "       [60, 50, 75, 65],\n",
       "       [90, 50, 40, 50]])"
      ]
     },
     "execution_count": 11,
     "metadata": {},
     "output_type": "execute_result"
    }
   ],
   "source": [
    "np.random.seed(42)\n",
    "scr = np.random.choice(range(40,91,5),(30, 4))\n",
    "\n",
    "scr"
   ]
  },
  {
   "cell_type": "markdown",
   "metadata": {},
   "source": [
    "* 채점이 이루어진 후 과목별 난이도에 따른 점수 조정이 이루어지는데, 학생별 총점 데이터가 다음과 같을 때의 과목별 보정계수(correction_factor)를 구하십시오. "
   ]
  },
  {
   "cell_type": "code",
   "execution_count": 13,
   "metadata": {},
   "outputs": [
    {
     "data": {
      "text/plain": [
       "array([300.8 , 274.4 , 337.55, 275.4 , 228.4 , 255.45, 281.45, 317.05,\n",
       "       266.1 , 239.9 , 264.55, 277.15, 280.6 , 259.2 , 224.6 , 239.  ,\n",
       "       259.3 , 279.5 , 311.75, 249.9 , 295.2 , 316.95, 291.65, 222.5 ,\n",
       "       248.2 , 332.5 , 279.95, 265.35, 259.45, 239.6 ])"
      ]
     },
     "execution_count": 13,
     "metadata": {},
     "output_type": "execute_result"
    }
   ],
   "source": [
    "total = np.array([300.8, 274.4, 337.55, 275.4, 228.4, 255.45, 281.45, 317.05, 266.1, 239.9, \n",
    "                 264.55, 277.15, 280.6, 259.2, 224.6, 239., 259.3, 279.5, 311.75, 249.9, \n",
    "                 295.2, 316.95, 291.65, 222.5, 248.2, 332.5, 279.95, 265.35, 259.45, 239.6])\n",
    "total"
   ]
  },
  {
   "cell_type": "code",
   "execution_count": 22,
   "metadata": {},
   "outputs": [
    {
     "name": "stderr",
     "output_type": "stream",
     "text": [
      "C:\\Users\\Medici\\AppData\\Local\\Temp\\ipykernel_8480\\2409132757.py:1: FutureWarning: `rcond` parameter will change to the default of machine precision times ``max(M, N)`` where M and N are the input matrix dimensions.\n",
      "To use the future default and silence this warning we advise to pass `rcond=None`, to keep using the old, explicitly pass `rcond=-1`.\n",
      "  x, *_ = np.linalg.lstsq(scr, total.ravel())\n"
     ]
    },
    {
     "data": {
      "text/plain": [
       "array([1.04, 1.05, 1.  , 1.07])"
      ]
     },
     "execution_count": 22,
     "metadata": {},
     "output_type": "execute_result"
    }
   ],
   "source": [
    "x, *_ = np.linalg.lstsq(scr, total.ravel())\n",
    "x"
   ]
  },
  {
   "cell_type": "markdown",
   "metadata": {},
   "source": [
    "* 보정계수로 점수를 조정해서 총점이 맞는지 확인해 봅니다."
   ]
  },
  {
   "cell_type": "code",
   "execution_count": 23,
   "metadata": {},
   "outputs": [
    {
     "data": {
      "text/plain": [
       "array([[72.8 , 57.75, 90.  , 80.25],\n",
       "       [62.4 , 73.5 , 85.  , 53.5 ],\n",
       "       [72.8 , 94.5 , 90.  , 80.25],\n",
       "       [62.4 , 57.75, 75.  , 80.25],\n",
       "       [52.  , 68.25, 60.  , 48.15],\n",
       "       [78.  , 68.25, 45.  , 64.2 ],\n",
       "       [41.6 , 89.25, 65.  , 85.6 ],\n",
       "       [41.6 , 94.5 , 90.  , 90.95],\n",
       "       [52.  , 73.5 , 55.  , 85.6 ],\n",
       "       [52.  , 63.  , 50.  , 74.9 ],\n",
       "       [62.4 , 84.  , 70.  , 48.15],\n",
       "       [57.2 , 84.  , 45.  , 90.95],\n",
       "       [83.2 , 89.25, 60.  , 48.15],\n",
       "       [57.2 , 73.5 , 75.  , 53.5 ],\n",
       "       [41.6 , 57.75, 45.  , 80.25],\n",
       "       [57.2 , 47.25, 65.  , 69.55],\n",
       "       [88.4 , 57.75, 65.  , 48.15],\n",
       "       [88.4 , 47.25, 85.  , 58.85],\n",
       "       [78.  , 73.5 , 80.  , 80.25],\n",
       "       [62.4 , 47.25, 60.  , 80.25],\n",
       "       [88.4 , 84.  , 80.  , 42.8 ],\n",
       "       [83.2 , 73.5 , 80.  , 80.25],\n",
       "       [41.6 , 78.75, 75.  , 96.3 ],\n",
       "       [52.  , 42.  , 75.  , 53.5 ],\n",
       "       [52.  , 42.  , 90.  , 64.2 ],\n",
       "       [88.4 , 73.5 , 85.  , 85.6 ],\n",
       "       [72.8 , 84.  , 75.  , 48.15],\n",
       "       [41.6 , 73.5 , 70.  , 80.25],\n",
       "       [62.4 , 52.5 , 75.  , 69.55],\n",
       "       [93.6 , 52.5 , 40.  , 53.5 ]])"
      ]
     },
     "execution_count": 23,
     "metadata": {},
     "output_type": "execute_result"
    }
   ],
   "source": [
    "scr * x"
   ]
  }
 ],
 "metadata": {
  "kernelspec": {
   "display_name": "'SA'",
   "language": "python",
   "name": "stats"
  },
  "language_info": {
   "codemirror_mode": {
    "name": "ipython",
    "version": 3
   },
   "file_extension": ".py",
   "mimetype": "text/x-python",
   "name": "python",
   "nbconvert_exporter": "python",
   "pygments_lexer": "ipython3",
   "version": "3.8.16"
  }
 },
 "nbformat": 4,
 "nbformat_minor": 2
}
