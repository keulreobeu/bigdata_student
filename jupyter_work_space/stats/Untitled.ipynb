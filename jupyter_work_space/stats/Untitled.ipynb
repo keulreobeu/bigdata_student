{
 "cells": [
  {
   "cell_type": "markdown",
   "id": "c50487d5",
   "metadata": {},
   "source": [
    "# 데이터유형\n",
    "\n",
    "* 정형데이터: 데이터의 길이가 일정함(ex.숫자...int64,32 flot64,32... )\n",
    "\n",
    "\n",
    "* 비정형: 데이터의 길이가 일정하지 않음 가변적임(ex.텍스트, 이미지, 영상, 사운드......)\n",
    "\n",
    "\n",
    "# 데이터 수집 유형\n",
    "\n",
    "1. 웹페이지 - 크롤링(Crawling): 페이지를 전부 가져오는것, 스크래핑(Scraping): 필요한 정보만 가저옴 \n",
    "        \n",
    "    * 크롤링의 순서\n",
    "    * URL요청과 응답 그리고 처리\n",
    "        python의 기본 패키지인 urllib는 너무 기본,\n",
    "        requests 패키지를 사용함.\n",
    "        현업에서 selenium을 많이 사용함.\n",
    "\n",
    "    * 응답의 내용 분석(parsing)\n",
    "        HTML Doc(text추출를 위해 정규표현식을 사용, 신입들한테 물어본다함) Beatifulsoup4  \n",
    "        xml Doc\n",
    "        json Doc을 상요하기도 함.\n",
    "\n",
    "    * 저장 처리 (파일 ro DB)\n",
    "        csv,  exl: openpyxl(엑셀2010버전만 지원 읽고쓰기됨), xlrd(엑셀을 읽는용\n",
    "        xml, json(포맷파일):text파일 응답분석에서 사용함.\n",
    "        json은 자바스크립트이며, 딕셔너리랑 구조가 같아서 사용이 편리.\n",
    "        \n",
    "        \n",
    "# HTML작동 순서\n",
    "1. get 을 보내 서버에 a.html을 요청한다.\n",
    "2. a.html을 받아온다.\n",
    "3. html parser을 이용해 DOM을 구축하고\n",
    "4. HTML Rendering을 한다.\n",
    "5. get 1.jpg을 보내 이미지를 요청하고\n",
    "6. 1.jpg를 받아온다 HTML에 있는 모든 이미지를 받을때까지 반복한다. (서버에 자원이 있는만큼 요청을 보냄)\n",
    "\n",
    "\n",
    "# \n",
    "WB에 요청메시지(header,entity로 구성)를 보내고 WS도 응답메시지(같은구성)을 보낸다. \n",
    "이떄 정상적으로 작동하면 status:200 으로 보낸다. 이때 문제가 생기면 서버:4xx 클라이언트:5xx로 보낸다. \n",
    "요청메시지를 보내는 매소드는 HTTP verb라 한다. 거의 get이98%(주로 작은데이터는) \n",
    "post는 2%정도(데이터를 서버로 보낼때 사용. 인증과정은 무조건 post를 사용한다.\n",
    "중요한 정보\n",
    "Response status codes: 서버와 응답이 어떻게 되었는지. \n",
    "Content-Type: 데이터의 종류와 형식 (ex. text/html, text/json 등)\n",
    "Content-Encoding: 어떤 형식으로 텍스트를 디코딩해야하는지. \n"
   ]
  }
 ],
 "metadata": {
  "kernelspec": {
   "display_name": "'SA'",
   "language": "python",
   "name": "stats"
  },
  "language_info": {
   "codemirror_mode": {
    "name": "ipython",
    "version": 3
   },
   "file_extension": ".py",
   "mimetype": "text/x-python",
   "name": "python",
   "nbconvert_exporter": "python",
   "pygments_lexer": "ipython3",
   "version": "3.8.16"
  }
 },
 "nbformat": 4,
 "nbformat_minor": 5
}
