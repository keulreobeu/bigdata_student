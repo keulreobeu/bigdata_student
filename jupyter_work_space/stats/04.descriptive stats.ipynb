{
 "cells": [
  {
   "cell_type": "code",
   "execution_count": 1,
   "id": "2becd2ae",
   "metadata": {},
   "outputs": [],
   "source": [
    "# %load my_init\n",
    "import numpy as np\n",
    "import pandas as pd\n",
    "import scipy as sp\n",
    "import statsmodels as sm\n",
    "import matplotlib.pyplot as plt\n",
    "import matplotlib as mpl\n",
    "import seaborn as sns\n",
    "from matplotlib import font_manager\n",
    "\n",
    "\n",
    "\n",
    "\n",
    "# import warnings\n",
    "# warnings.filterwarnings('ignore')\n",
    "\n",
    "font_fname = 'C:/Windows/Fonts/malgun.ttf'\n",
    "font_family = font_manager.FontProperties(fname=font_fname).get_name()\n",
    "\n",
    "plt.rcParams[\"font.family\"] = font_family\n",
    "plt.rcParams[\"axes.unicode_minus\"] = False\n",
    "\n",
    "\n",
    "%matplotlib inline"
   ]
  },
  {
   "cell_type": "code",
   "execution_count": 2,
   "id": "c697540b",
   "metadata": {},
   "outputs": [
    {
     "data": {
      "text/html": [
       "<div>\n",
       "<style scoped>\n",
       "    .dataframe tbody tr th:only-of-type {\n",
       "        vertical-align: middle;\n",
       "    }\n",
       "\n",
       "    .dataframe tbody tr th {\n",
       "        vertical-align: top;\n",
       "    }\n",
       "\n",
       "    .dataframe thead th {\n",
       "        text-align: right;\n",
       "    }\n",
       "</style>\n",
       "<table border=\"1\" class=\"dataframe\">\n",
       "  <thead>\n",
       "    <tr style=\"text-align: right;\">\n",
       "      <th></th>\n",
       "      <th>학년</th>\n",
       "      <th>몸무게</th>\n",
       "      <th>키</th>\n",
       "    </tr>\n",
       "    <tr>\n",
       "      <th>학번</th>\n",
       "      <th></th>\n",
       "      <th></th>\n",
       "      <th></th>\n",
       "    </tr>\n",
       "  </thead>\n",
       "  <tbody>\n",
       "    <tr>\n",
       "      <th>1</th>\n",
       "      <td>1</td>\n",
       "      <td>60.2</td>\n",
       "      <td>154.0</td>\n",
       "    </tr>\n",
       "    <tr>\n",
       "      <th>2</th>\n",
       "      <td>1</td>\n",
       "      <td>50.2</td>\n",
       "      <td>174.5</td>\n",
       "    </tr>\n",
       "    <tr>\n",
       "      <th>3</th>\n",
       "      <td>1</td>\n",
       "      <td>68.8</td>\n",
       "      <td>177.0</td>\n",
       "    </tr>\n",
       "    <tr>\n",
       "      <th>4</th>\n",
       "      <td>2</td>\n",
       "      <td>59.0</td>\n",
       "      <td>167.5</td>\n",
       "    </tr>\n",
       "    <tr>\n",
       "      <th>5</th>\n",
       "      <td>2</td>\n",
       "      <td>70.9</td>\n",
       "      <td>182.0</td>\n",
       "    </tr>\n",
       "    <tr>\n",
       "      <th>6</th>\n",
       "      <td>2</td>\n",
       "      <td>76.5</td>\n",
       "      <td>170.5</td>\n",
       "    </tr>\n",
       "    <tr>\n",
       "      <th>7</th>\n",
       "      <td>3</td>\n",
       "      <td>66.6</td>\n",
       "      <td>171.5</td>\n",
       "    </tr>\n",
       "    <tr>\n",
       "      <th>8</th>\n",
       "      <td>3</td>\n",
       "      <td>86.2</td>\n",
       "      <td>187.0</td>\n",
       "    </tr>\n",
       "    <tr>\n",
       "      <th>9</th>\n",
       "      <td>3</td>\n",
       "      <td>66.0</td>\n",
       "      <td>178.0</td>\n",
       "    </tr>\n",
       "    <tr>\n",
       "      <th>10</th>\n",
       "      <td>3</td>\n",
       "      <td>77.4</td>\n",
       "      <td>172.5</td>\n",
       "    </tr>\n",
       "  </tbody>\n",
       "</table>\n",
       "</div>"
      ],
      "text/plain": [
       "    학년   몸무게      키\n",
       "학번                 \n",
       "1    1  60.2  154.0\n",
       "2    1  50.2  174.5\n",
       "3    1  68.8  177.0\n",
       "4    2  59.0  167.5\n",
       "5    2  70.9  182.0\n",
       "6    2  76.5  170.5\n",
       "7    3  66.6  171.5\n",
       "8    3  86.2  187.0\n",
       "9    3  66.0  178.0\n",
       "10   3  77.4  172.5"
      ]
     },
     "execution_count": 2,
     "metadata": {},
     "output_type": "execute_result"
    }
   ],
   "source": [
    "df = pd.read_csv('data/student_10.csv', index_col='학번')\n",
    "df"
   ]
  },
  {
   "cell_type": "markdown",
   "id": "e34ca127",
   "metadata": {},
   "source": [
    "인덱스 설정을 따로 안하거나 안보여도 항상 존재하는: range index 정수 인덱스  \n",
    "\n",
    "\n",
    "행의 인덱스를 지정: implicit index 묵시적 인덱스\n",
    "\n",
    "\n",
    "열의 columns 인덱스: expricit index 명시적 인덱스 "
   ]
  },
  {
   "cell_type": "code",
   "execution_count": 3,
   "id": "820619be",
   "metadata": {},
   "outputs": [
    {
     "data": {
      "text/plain": [
       "'1.23.5'"
      ]
     },
     "execution_count": 3,
     "metadata": {},
     "output_type": "execute_result"
    }
   ],
   "source": [
    "np.__version__"
   ]
  },
  {
   "cell_type": "code",
   "execution_count": 4,
   "id": "42cee4db",
   "metadata": {},
   "outputs": [
    {
     "data": {
      "text/plain": [
       "'1.5.3'"
      ]
     },
     "execution_count": 4,
     "metadata": {},
     "output_type": "execute_result"
    }
   ],
   "source": [
    "pd.__version__"
   ]
  },
  {
   "cell_type": "code",
   "execution_count": 5,
   "id": "504a96ba",
   "metadata": {},
   "outputs": [
    {
     "data": {
      "text/html": [
       "<div>\n",
       "<style scoped>\n",
       "    .dataframe tbody tr th:only-of-type {\n",
       "        vertical-align: middle;\n",
       "    }\n",
       "\n",
       "    .dataframe tbody tr th {\n",
       "        vertical-align: top;\n",
       "    }\n",
       "\n",
       "    .dataframe thead th {\n",
       "        text-align: right;\n",
       "    }\n",
       "</style>\n",
       "<table border=\"1\" class=\"dataframe\">\n",
       "  <thead>\n",
       "    <tr style=\"text-align: right;\">\n",
       "      <th></th>\n",
       "      <th>0</th>\n",
       "      <th>1</th>\n",
       "      <th>2</th>\n",
       "      <th>3</th>\n",
       "    </tr>\n",
       "  </thead>\n",
       "  <tbody>\n",
       "    <tr>\n",
       "      <th>0</th>\n",
       "      <td>1</td>\n",
       "      <td>1</td>\n",
       "      <td>60.2</td>\n",
       "      <td>154.0</td>\n",
       "    </tr>\n",
       "    <tr>\n",
       "      <th>1</th>\n",
       "      <td>2</td>\n",
       "      <td>1</td>\n",
       "      <td>50.2</td>\n",
       "      <td>174.5</td>\n",
       "    </tr>\n",
       "    <tr>\n",
       "      <th>2</th>\n",
       "      <td>3</td>\n",
       "      <td>1</td>\n",
       "      <td>68.8</td>\n",
       "      <td>177.0</td>\n",
       "    </tr>\n",
       "    <tr>\n",
       "      <th>3</th>\n",
       "      <td>4</td>\n",
       "      <td>2</td>\n",
       "      <td>59.0</td>\n",
       "      <td>167.5</td>\n",
       "    </tr>\n",
       "    <tr>\n",
       "      <th>4</th>\n",
       "      <td>5</td>\n",
       "      <td>2</td>\n",
       "      <td>70.9</td>\n",
       "      <td>182.0</td>\n",
       "    </tr>\n",
       "    <tr>\n",
       "      <th>5</th>\n",
       "      <td>6</td>\n",
       "      <td>2</td>\n",
       "      <td>76.5</td>\n",
       "      <td>170.5</td>\n",
       "    </tr>\n",
       "    <tr>\n",
       "      <th>6</th>\n",
       "      <td>7</td>\n",
       "      <td>3</td>\n",
       "      <td>66.6</td>\n",
       "      <td>171.5</td>\n",
       "    </tr>\n",
       "    <tr>\n",
       "      <th>7</th>\n",
       "      <td>8</td>\n",
       "      <td>3</td>\n",
       "      <td>86.2</td>\n",
       "      <td>187.0</td>\n",
       "    </tr>\n",
       "    <tr>\n",
       "      <th>8</th>\n",
       "      <td>9</td>\n",
       "      <td>3</td>\n",
       "      <td>66.0</td>\n",
       "      <td>178.0</td>\n",
       "    </tr>\n",
       "    <tr>\n",
       "      <th>9</th>\n",
       "      <td>10</td>\n",
       "      <td>3</td>\n",
       "      <td>77.4</td>\n",
       "      <td>172.5</td>\n",
       "    </tr>\n",
       "  </tbody>\n",
       "</table>\n",
       "</div>"
      ],
      "text/plain": [
       "    0  1     2      3\n",
       "0   1  1  60.2  154.0\n",
       "1   2  1  50.2  174.5\n",
       "2   3  1  68.8  177.0\n",
       "3   4  2  59.0  167.5\n",
       "4   5  2  70.9  182.0\n",
       "5   6  2  76.5  170.5\n",
       "6   7  3  66.6  171.5\n",
       "7   8  3  86.2  187.0\n",
       "8   9  3  66.0  178.0\n",
       "9  10  3  77.4  172.5"
      ]
     },
     "execution_count": 5,
     "metadata": {},
     "output_type": "execute_result"
    }
   ],
   "source": [
    "# header='infer' 열의 인덱싱을 정해줄 수 있음 \n",
    "# index_col=None 행의 인덱싱을 정해줄 수 있음\n",
    "# na_values=None 결측치를 정해줄 수 있음\n",
    "df_2 = pd.read_csv('data/student_10_2.csv',header=None)\n",
    "df_2"
   ]
  },
  {
   "cell_type": "code",
   "execution_count": 6,
   "id": "84eba15d",
   "metadata": {},
   "outputs": [
    {
     "data": {
      "text/plain": [
       "학번\n",
       "1     60.2\n",
       "2     50.2\n",
       "3     68.8\n",
       "4     59.0\n",
       "5     70.9\n",
       "6     76.5\n",
       "7     66.6\n",
       "8     86.2\n",
       "9     66.0\n",
       "10    77.4\n",
       "Name: 몸무게, dtype: float64"
      ]
     },
     "execution_count": 6,
     "metadata": {},
     "output_type": "execute_result"
    }
   ],
   "source": [
    "df['몸무게']  # series 객채로 변함 인덱스레인지 + 넌파이배열  아레에는 인덱스 이름과 데이터 타입이 적혀있음"
   ]
  },
  {
   "cell_type": "code",
   "execution_count": 7,
   "id": "024eefe9",
   "metadata": {},
   "outputs": [
    {
     "data": {
      "text/plain": [
       "학번\n",
       "1     60.2\n",
       "2     50.2\n",
       "3     68.8\n",
       "4     59.0\n",
       "5     70.9\n",
       "6     76.5\n",
       "7     66.6\n",
       "8     86.2\n",
       "9     66.0\n",
       "10    77.4\n",
       "Name: 몸무게, dtype: float64"
      ]
     },
     "execution_count": 7,
     "metadata": {},
     "output_type": "execute_result"
    }
   ],
   "source": [
    "df.몸무게    # 컬럼도 프로포티다. "
   ]
  },
  {
   "cell_type": "code",
   "execution_count": 8,
   "id": "423fe091",
   "metadata": {},
   "outputs": [],
   "source": [
    "def get_bmi(bmi_score):\n",
    "    if bmi_score < 18.5:\n",
    "        return '저체중'\n",
    "    elif bmi_score <= 23:\n",
    "        return '정상'\n",
    "    elif bmi_score <= 25:\n",
    "        return '과체중'\n",
    "    else:\n",
    "        return '비만'"
   ]
  },
  {
   "cell_type": "code",
   "execution_count": 9,
   "id": "8f3bbe25",
   "metadata": {},
   "outputs": [
    {
     "data": {
      "text/html": [
       "<div>\n",
       "<style scoped>\n",
       "    .dataframe tbody tr th:only-of-type {\n",
       "        vertical-align: middle;\n",
       "    }\n",
       "\n",
       "    .dataframe tbody tr th {\n",
       "        vertical-align: top;\n",
       "    }\n",
       "\n",
       "    .dataframe thead th {\n",
       "        text-align: right;\n",
       "    }\n",
       "</style>\n",
       "<table border=\"1\" class=\"dataframe\">\n",
       "  <thead>\n",
       "    <tr style=\"text-align: right;\">\n",
       "      <th></th>\n",
       "      <th>학년</th>\n",
       "      <th>몸무게</th>\n",
       "      <th>키</th>\n",
       "      <th>BMI점수</th>\n",
       "      <th>BMI등급</th>\n",
       "    </tr>\n",
       "    <tr>\n",
       "      <th>학번</th>\n",
       "      <th></th>\n",
       "      <th></th>\n",
       "      <th></th>\n",
       "      <th></th>\n",
       "      <th></th>\n",
       "    </tr>\n",
       "  </thead>\n",
       "  <tbody>\n",
       "    <tr>\n",
       "      <th>1</th>\n",
       "      <td>1</td>\n",
       "      <td>60.2</td>\n",
       "      <td>154.0</td>\n",
       "      <td>25.38</td>\n",
       "      <td>비만</td>\n",
       "    </tr>\n",
       "    <tr>\n",
       "      <th>2</th>\n",
       "      <td>1</td>\n",
       "      <td>50.2</td>\n",
       "      <td>174.5</td>\n",
       "      <td>16.49</td>\n",
       "      <td>저체중</td>\n",
       "    </tr>\n",
       "    <tr>\n",
       "      <th>3</th>\n",
       "      <td>1</td>\n",
       "      <td>68.8</td>\n",
       "      <td>177.0</td>\n",
       "      <td>21.96</td>\n",
       "      <td>정상</td>\n",
       "    </tr>\n",
       "    <tr>\n",
       "      <th>4</th>\n",
       "      <td>2</td>\n",
       "      <td>59.0</td>\n",
       "      <td>167.5</td>\n",
       "      <td>21.03</td>\n",
       "      <td>정상</td>\n",
       "    </tr>\n",
       "    <tr>\n",
       "      <th>5</th>\n",
       "      <td>2</td>\n",
       "      <td>70.9</td>\n",
       "      <td>182.0</td>\n",
       "      <td>21.40</td>\n",
       "      <td>정상</td>\n",
       "    </tr>\n",
       "    <tr>\n",
       "      <th>6</th>\n",
       "      <td>2</td>\n",
       "      <td>76.5</td>\n",
       "      <td>170.5</td>\n",
       "      <td>26.32</td>\n",
       "      <td>비만</td>\n",
       "    </tr>\n",
       "    <tr>\n",
       "      <th>7</th>\n",
       "      <td>3</td>\n",
       "      <td>66.6</td>\n",
       "      <td>171.5</td>\n",
       "      <td>22.64</td>\n",
       "      <td>정상</td>\n",
       "    </tr>\n",
       "    <tr>\n",
       "      <th>8</th>\n",
       "      <td>3</td>\n",
       "      <td>86.2</td>\n",
       "      <td>187.0</td>\n",
       "      <td>24.65</td>\n",
       "      <td>과체중</td>\n",
       "    </tr>\n",
       "    <tr>\n",
       "      <th>9</th>\n",
       "      <td>3</td>\n",
       "      <td>66.0</td>\n",
       "      <td>178.0</td>\n",
       "      <td>20.83</td>\n",
       "      <td>정상</td>\n",
       "    </tr>\n",
       "    <tr>\n",
       "      <th>10</th>\n",
       "      <td>3</td>\n",
       "      <td>77.4</td>\n",
       "      <td>172.5</td>\n",
       "      <td>26.01</td>\n",
       "      <td>비만</td>\n",
       "    </tr>\n",
       "  </tbody>\n",
       "</table>\n",
       "</div>"
      ],
      "text/plain": [
       "    학년   몸무게      키  BMI점수 BMI등급\n",
       "학번                              \n",
       "1    1  60.2  154.0  25.38    비만\n",
       "2    1  50.2  174.5  16.49   저체중\n",
       "3    1  68.8  177.0  21.96    정상\n",
       "4    2  59.0  167.5  21.03    정상\n",
       "5    2  70.9  182.0  21.40    정상\n",
       "6    2  76.5  170.5  26.32    비만\n",
       "7    3  66.6  171.5  22.64    정상\n",
       "8    3  86.2  187.0  24.65   과체중\n",
       "9    3  66.0  178.0  20.83    정상\n",
       "10   3  77.4  172.5  26.01    비만"
      ]
     },
     "execution_count": 9,
     "metadata": {},
     "output_type": "execute_result"
    }
   ],
   "source": [
    "# numpy를 기반으로 하고 있어 roof가 없이 작동함.\n",
    "# 함수를 쓰는경우 nominal이나 ordinal을 원하는 데로 만들 수 있음.\n",
    "df['BMI점수'] = np.round(df['몸무게'] / np.power(df['키'] / 100 , 2), 2)\n",
    "df['BMI등급'] = df['BMI점수'].apply(get_bmi)    # python의 map()과 같은 작동을 함.\n",
    "df"
   ]
  },
  {
   "cell_type": "markdown",
   "id": "5292dbd9",
   "metadata": {},
   "source": [
    "##### cut: 연속형(numeric)을 이산형(cateforial, 범주형)으로 반꾸어 주는 함수\n",
    "##### 범주형은 명목형(nominal ex.혈액형) 그리고 순서형(ordinal ex.성적 등급, 상 중 하)이 있음\n",
    "##### 별점과같이 연속형과 범주형 둘다 해당하는 경우도 있음. 원하는 데로 선택해서 사용."
   ]
  },
  {
   "cell_type": "code",
   "execution_count": 10,
   "id": "b99956ba",
   "metadata": {},
   "outputs": [
    {
     "data": {
      "text/plain": [
       "학번\n",
       "1     [25.0, 100.0)\n",
       "2       [0.0, 18.5)\n",
       "3      [18.5, 23.0)\n",
       "4      [18.5, 23.0)\n",
       "5      [18.5, 23.0)\n",
       "6     [25.0, 100.0)\n",
       "7      [18.5, 23.0)\n",
       "8      [23.0, 25.0)\n",
       "9      [18.5, 23.0)\n",
       "10    [25.0, 100.0)\n",
       "Name: BMI점수, dtype: category\n",
       "Categories (4, interval[float64, left]): [[0.0, 18.5) < [18.5, 23.0) < [23.0, 25.0) < [25.0, 100.0)]"
      ]
     },
     "execution_count": 10,
     "metadata": {},
     "output_type": "execute_result"
    }
   ],
   "source": [
    "# right=False를 해야 이상,미만을 사용함. 기본은 초과,이하(개구간 설정)\n",
    "pd.cut(df['BMI점수'], bins=[0, 18.5, 23, 25, 100], right=False)"
   ]
  },
  {
   "cell_type": "code",
   "execution_count": 11,
   "id": "1265fba5",
   "metadata": {},
   "outputs": [
    {
     "data": {
      "text/html": [
       "<div>\n",
       "<style scoped>\n",
       "    .dataframe tbody tr th:only-of-type {\n",
       "        vertical-align: middle;\n",
       "    }\n",
       "\n",
       "    .dataframe tbody tr th {\n",
       "        vertical-align: top;\n",
       "    }\n",
       "\n",
       "    .dataframe thead th {\n",
       "        text-align: right;\n",
       "    }\n",
       "</style>\n",
       "<table border=\"1\" class=\"dataframe\">\n",
       "  <thead>\n",
       "    <tr style=\"text-align: right;\">\n",
       "      <th></th>\n",
       "      <th>학년</th>\n",
       "      <th>몸무게</th>\n",
       "      <th>키</th>\n",
       "      <th>BMI점수</th>\n",
       "      <th>BMI등급</th>\n",
       "    </tr>\n",
       "    <tr>\n",
       "      <th>학번</th>\n",
       "      <th></th>\n",
       "      <th></th>\n",
       "      <th></th>\n",
       "      <th></th>\n",
       "      <th></th>\n",
       "    </tr>\n",
       "  </thead>\n",
       "  <tbody>\n",
       "    <tr>\n",
       "      <th>1</th>\n",
       "      <td>1</td>\n",
       "      <td>60.2</td>\n",
       "      <td>154.0</td>\n",
       "      <td>25.38</td>\n",
       "      <td>비만</td>\n",
       "    </tr>\n",
       "    <tr>\n",
       "      <th>2</th>\n",
       "      <td>1</td>\n",
       "      <td>50.2</td>\n",
       "      <td>174.5</td>\n",
       "      <td>16.49</td>\n",
       "      <td>저체중</td>\n",
       "    </tr>\n",
       "    <tr>\n",
       "      <th>3</th>\n",
       "      <td>1</td>\n",
       "      <td>68.8</td>\n",
       "      <td>177.0</td>\n",
       "      <td>21.96</td>\n",
       "      <td>정상</td>\n",
       "    </tr>\n",
       "    <tr>\n",
       "      <th>4</th>\n",
       "      <td>2</td>\n",
       "      <td>59.0</td>\n",
       "      <td>167.5</td>\n",
       "      <td>21.03</td>\n",
       "      <td>정상</td>\n",
       "    </tr>\n",
       "    <tr>\n",
       "      <th>5</th>\n",
       "      <td>2</td>\n",
       "      <td>70.9</td>\n",
       "      <td>182.0</td>\n",
       "      <td>21.40</td>\n",
       "      <td>정상</td>\n",
       "    </tr>\n",
       "    <tr>\n",
       "      <th>6</th>\n",
       "      <td>2</td>\n",
       "      <td>76.5</td>\n",
       "      <td>170.5</td>\n",
       "      <td>26.32</td>\n",
       "      <td>비만</td>\n",
       "    </tr>\n",
       "    <tr>\n",
       "      <th>7</th>\n",
       "      <td>3</td>\n",
       "      <td>66.6</td>\n",
       "      <td>171.5</td>\n",
       "      <td>22.64</td>\n",
       "      <td>정상</td>\n",
       "    </tr>\n",
       "    <tr>\n",
       "      <th>8</th>\n",
       "      <td>3</td>\n",
       "      <td>86.2</td>\n",
       "      <td>187.0</td>\n",
       "      <td>24.65</td>\n",
       "      <td>과체중</td>\n",
       "    </tr>\n",
       "    <tr>\n",
       "      <th>9</th>\n",
       "      <td>3</td>\n",
       "      <td>66.0</td>\n",
       "      <td>178.0</td>\n",
       "      <td>20.83</td>\n",
       "      <td>정상</td>\n",
       "    </tr>\n",
       "    <tr>\n",
       "      <th>10</th>\n",
       "      <td>3</td>\n",
       "      <td>77.4</td>\n",
       "      <td>172.5</td>\n",
       "      <td>26.01</td>\n",
       "      <td>비만</td>\n",
       "    </tr>\n",
       "  </tbody>\n",
       "</table>\n",
       "</div>"
      ],
      "text/plain": [
       "    학년   몸무게      키  BMI점수 BMI등급\n",
       "학번                              \n",
       "1    1  60.2  154.0  25.38    비만\n",
       "2    1  50.2  174.5  16.49   저체중\n",
       "3    1  68.8  177.0  21.96    정상\n",
       "4    2  59.0  167.5  21.03    정상\n",
       "5    2  70.9  182.0  21.40    정상\n",
       "6    2  76.5  170.5  26.32    비만\n",
       "7    3  66.6  171.5  22.64    정상\n",
       "8    3  86.2  187.0  24.65   과체중\n",
       "9    3  66.0  178.0  20.83    정상\n",
       "10   3  77.4  172.5  26.01    비만"
      ]
     },
     "execution_count": 11,
     "metadata": {},
     "output_type": "execute_result"
    }
   ],
   "source": [
    "# BMI등급은 ordinal데이터이다.(일정한 간격이 아니라서)\n",
    "df['BMI등급'] = pd.cut(df['BMI점수'], bins=[0, 18.5, 23, 25, 100], labels=['저체중','정상','과체중','비만'], right=False)\n",
    "df"
   ]
  },
  {
   "cell_type": "code",
   "execution_count": 12,
   "id": "b65cf091",
   "metadata": {},
   "outputs": [
    {
     "data": {
      "text/plain": [
       "Index(['학년', '몸무게', '키', 'BMI점수', 'BMI등급'], dtype='object')"
      ]
     },
     "execution_count": 12,
     "metadata": {},
     "output_type": "execute_result"
    }
   ],
   "source": [
    "df.columns"
   ]
  },
  {
   "cell_type": "code",
   "execution_count": 13,
   "id": "88539cfe",
   "metadata": {},
   "outputs": [
    {
     "data": {
      "text/plain": [
       "Index(['학년', '몸무게', '키', 'BMI점수'], dtype='object')"
      ]
     },
     "execution_count": 13,
     "metadata": {},
     "output_type": "execute_result"
    }
   ],
   "source": [
    "df.columns[0:-1]"
   ]
  },
  {
   "cell_type": "code",
   "execution_count": 14,
   "id": "ec527387",
   "metadata": {},
   "outputs": [
    {
     "data": {
      "text/html": [
       "<div>\n",
       "<style scoped>\n",
       "    .dataframe tbody tr th:only-of-type {\n",
       "        vertical-align: middle;\n",
       "    }\n",
       "\n",
       "    .dataframe tbody tr th {\n",
       "        vertical-align: top;\n",
       "    }\n",
       "\n",
       "    .dataframe thead th {\n",
       "        text-align: right;\n",
       "    }\n",
       "</style>\n",
       "<table border=\"1\" class=\"dataframe\">\n",
       "  <thead>\n",
       "    <tr style=\"text-align: right;\">\n",
       "      <th></th>\n",
       "      <th>학년</th>\n",
       "      <th>몸무게</th>\n",
       "      <th>키</th>\n",
       "      <th>BMI점수</th>\n",
       "    </tr>\n",
       "    <tr>\n",
       "      <th>학번</th>\n",
       "      <th></th>\n",
       "      <th></th>\n",
       "      <th></th>\n",
       "      <th></th>\n",
       "    </tr>\n",
       "  </thead>\n",
       "  <tbody>\n",
       "    <tr>\n",
       "      <th>1</th>\n",
       "      <td>1</td>\n",
       "      <td>60.2</td>\n",
       "      <td>154.0</td>\n",
       "      <td>25.38</td>\n",
       "    </tr>\n",
       "    <tr>\n",
       "      <th>2</th>\n",
       "      <td>1</td>\n",
       "      <td>50.2</td>\n",
       "      <td>174.5</td>\n",
       "      <td>16.49</td>\n",
       "    </tr>\n",
       "    <tr>\n",
       "      <th>3</th>\n",
       "      <td>1</td>\n",
       "      <td>68.8</td>\n",
       "      <td>177.0</td>\n",
       "      <td>21.96</td>\n",
       "    </tr>\n",
       "    <tr>\n",
       "      <th>4</th>\n",
       "      <td>2</td>\n",
       "      <td>59.0</td>\n",
       "      <td>167.5</td>\n",
       "      <td>21.03</td>\n",
       "    </tr>\n",
       "    <tr>\n",
       "      <th>5</th>\n",
       "      <td>2</td>\n",
       "      <td>70.9</td>\n",
       "      <td>182.0</td>\n",
       "      <td>21.40</td>\n",
       "    </tr>\n",
       "    <tr>\n",
       "      <th>6</th>\n",
       "      <td>2</td>\n",
       "      <td>76.5</td>\n",
       "      <td>170.5</td>\n",
       "      <td>26.32</td>\n",
       "    </tr>\n",
       "    <tr>\n",
       "      <th>7</th>\n",
       "      <td>3</td>\n",
       "      <td>66.6</td>\n",
       "      <td>171.5</td>\n",
       "      <td>22.64</td>\n",
       "    </tr>\n",
       "    <tr>\n",
       "      <th>8</th>\n",
       "      <td>3</td>\n",
       "      <td>86.2</td>\n",
       "      <td>187.0</td>\n",
       "      <td>24.65</td>\n",
       "    </tr>\n",
       "    <tr>\n",
       "      <th>9</th>\n",
       "      <td>3</td>\n",
       "      <td>66.0</td>\n",
       "      <td>178.0</td>\n",
       "      <td>20.83</td>\n",
       "    </tr>\n",
       "    <tr>\n",
       "      <th>10</th>\n",
       "      <td>3</td>\n",
       "      <td>77.4</td>\n",
       "      <td>172.5</td>\n",
       "      <td>26.01</td>\n",
       "    </tr>\n",
       "  </tbody>\n",
       "</table>\n",
       "</div>"
      ],
      "text/plain": [
       "    학년   몸무게      키  BMI점수\n",
       "학번                        \n",
       "1    1  60.2  154.0  25.38\n",
       "2    1  50.2  174.5  16.49\n",
       "3    1  68.8  177.0  21.96\n",
       "4    2  59.0  167.5  21.03\n",
       "5    2  70.9  182.0  21.40\n",
       "6    2  76.5  170.5  26.32\n",
       "7    3  66.6  171.5  22.64\n",
       "8    3  86.2  187.0  24.65\n",
       "9    3  66.0  178.0  20.83\n",
       "10   3  77.4  172.5  26.01"
      ]
     },
     "execution_count": 14,
     "metadata": {},
     "output_type": "execute_result"
    }
   ],
   "source": [
    "df_2 = df[df.columns[0:-1]]\n",
    "df_2"
   ]
  },
  {
   "cell_type": "code",
   "execution_count": 15,
   "id": "177ac2d5",
   "metadata": {},
   "outputs": [
    {
     "data": {
      "text/html": [
       "<div>\n",
       "<style scoped>\n",
       "    .dataframe tbody tr th:only-of-type {\n",
       "        vertical-align: middle;\n",
       "    }\n",
       "\n",
       "    .dataframe tbody tr th {\n",
       "        vertical-align: top;\n",
       "    }\n",
       "\n",
       "    .dataframe thead th {\n",
       "        text-align: right;\n",
       "    }\n",
       "</style>\n",
       "<table border=\"1\" class=\"dataframe\">\n",
       "  <thead>\n",
       "    <tr style=\"text-align: right;\">\n",
       "      <th></th>\n",
       "      <th>학년</th>\n",
       "      <th>키</th>\n",
       "      <th>BMI점수</th>\n",
       "    </tr>\n",
       "    <tr>\n",
       "      <th>학번</th>\n",
       "      <th></th>\n",
       "      <th></th>\n",
       "      <th></th>\n",
       "    </tr>\n",
       "  </thead>\n",
       "  <tbody>\n",
       "    <tr>\n",
       "      <th>1</th>\n",
       "      <td>1</td>\n",
       "      <td>154.0</td>\n",
       "      <td>25.38</td>\n",
       "    </tr>\n",
       "    <tr>\n",
       "      <th>2</th>\n",
       "      <td>1</td>\n",
       "      <td>174.5</td>\n",
       "      <td>16.49</td>\n",
       "    </tr>\n",
       "    <tr>\n",
       "      <th>3</th>\n",
       "      <td>1</td>\n",
       "      <td>177.0</td>\n",
       "      <td>21.96</td>\n",
       "    </tr>\n",
       "    <tr>\n",
       "      <th>4</th>\n",
       "      <td>2</td>\n",
       "      <td>167.5</td>\n",
       "      <td>21.03</td>\n",
       "    </tr>\n",
       "    <tr>\n",
       "      <th>5</th>\n",
       "      <td>2</td>\n",
       "      <td>182.0</td>\n",
       "      <td>21.40</td>\n",
       "    </tr>\n",
       "    <tr>\n",
       "      <th>6</th>\n",
       "      <td>2</td>\n",
       "      <td>170.5</td>\n",
       "      <td>26.32</td>\n",
       "    </tr>\n",
       "    <tr>\n",
       "      <th>7</th>\n",
       "      <td>3</td>\n",
       "      <td>171.5</td>\n",
       "      <td>22.64</td>\n",
       "    </tr>\n",
       "    <tr>\n",
       "      <th>8</th>\n",
       "      <td>3</td>\n",
       "      <td>187.0</td>\n",
       "      <td>24.65</td>\n",
       "    </tr>\n",
       "    <tr>\n",
       "      <th>9</th>\n",
       "      <td>3</td>\n",
       "      <td>178.0</td>\n",
       "      <td>20.83</td>\n",
       "    </tr>\n",
       "    <tr>\n",
       "      <th>10</th>\n",
       "      <td>3</td>\n",
       "      <td>172.5</td>\n",
       "      <td>26.01</td>\n",
       "    </tr>\n",
       "  </tbody>\n",
       "</table>\n",
       "</div>"
      ],
      "text/plain": [
       "    학년      키  BMI점수\n",
       "학번                  \n",
       "1    1  154.0  25.38\n",
       "2    1  174.5  16.49\n",
       "3    1  177.0  21.96\n",
       "4    2  167.5  21.03\n",
       "5    2  182.0  21.40\n",
       "6    2  170.5  26.32\n",
       "7    3  171.5  22.64\n",
       "8    3  187.0  24.65\n",
       "9    3  178.0  20.83\n",
       "10   3  172.5  26.01"
      ]
     },
     "execution_count": 15,
     "metadata": {},
     "output_type": "execute_result"
    }
   ],
   "source": [
    "df_3 = df[['학년', '키','BMI점수']]\n",
    "df_3"
   ]
  },
  {
   "cell_type": "markdown",
   "id": "5f4f0b37",
   "metadata": {},
   "source": [
    "# heading1\n",
    "## heading2\n",
    "### heading3\n",
    "#### heading4\n",
    "##### heading5"
   ]
  },
  {
   "cell_type": "markdown",
   "id": "3ce29f1e",
   "metadata": {},
   "source": [
    "* 1st\n",
    "* 2st\n",
    "* 3st\n",
    "\n",
    "1. 1st\n",
    "2. 2nd\n",
    "3. 3rd  "
   ]
  },
  {
   "cell_type": "markdown",
   "id": "a9db2084",
   "metadata": {},
   "source": [
    "1. 1st"
   ]
  },
  {
   "cell_type": "markdown",
   "id": "c34bad8e",
   "metadata": {},
   "source": [
    "백터는 $x=(x_{1}, x_{2}, \\cdots, x_{n})$생겼습니다.\n",
    "$$x=(x_{1}, x_{2}, \\cdots, x_{n})$$"
   ]
  },
  {
   "cell_type": "code",
   "execution_count": 16,
   "id": "c4e1d71d",
   "metadata": {},
   "outputs": [
    {
     "data": {
      "text/html": [
       "<div>\n",
       "<style scoped>\n",
       "    .dataframe tbody tr th:only-of-type {\n",
       "        vertical-align: middle;\n",
       "    }\n",
       "\n",
       "    .dataframe tbody tr th {\n",
       "        vertical-align: top;\n",
       "    }\n",
       "\n",
       "    .dataframe thead th {\n",
       "        text-align: right;\n",
       "    }\n",
       "</style>\n",
       "<table border=\"1\" class=\"dataframe\">\n",
       "  <thead>\n",
       "    <tr style=\"text-align: right;\">\n",
       "      <th></th>\n",
       "      <th>BMI점수</th>\n",
       "      <th>BMI등급</th>\n",
       "    </tr>\n",
       "    <tr>\n",
       "      <th>학번</th>\n",
       "      <th></th>\n",
       "      <th></th>\n",
       "    </tr>\n",
       "  </thead>\n",
       "  <tbody>\n",
       "    <tr>\n",
       "      <th>4</th>\n",
       "      <td>21.03</td>\n",
       "      <td>정상</td>\n",
       "    </tr>\n",
       "    <tr>\n",
       "      <th>5</th>\n",
       "      <td>21.40</td>\n",
       "      <td>정상</td>\n",
       "    </tr>\n",
       "  </tbody>\n",
       "</table>\n",
       "</div>"
      ],
      "text/plain": [
       "    BMI점수 BMI등급\n",
       "학번             \n",
       "4   21.03    정상\n",
       "5   21.40    정상"
      ]
     },
     "execution_count": 16,
     "metadata": {},
     "output_type": "execute_result"
    }
   ],
   "source": [
    "df.iloc[3:5, 3:5] # 묵시적 인덱서 - 슬라이싱"
   ]
  },
  {
   "cell_type": "code",
   "execution_count": 17,
   "id": "ba882007",
   "metadata": {},
   "outputs": [
    {
     "data": {
      "text/html": [
       "<div>\n",
       "<style scoped>\n",
       "    .dataframe tbody tr th:only-of-type {\n",
       "        vertical-align: middle;\n",
       "    }\n",
       "\n",
       "    .dataframe tbody tr th {\n",
       "        vertical-align: top;\n",
       "    }\n",
       "\n",
       "    .dataframe thead th {\n",
       "        text-align: right;\n",
       "    }\n",
       "</style>\n",
       "<table border=\"1\" class=\"dataframe\">\n",
       "  <thead>\n",
       "    <tr style=\"text-align: right;\">\n",
       "      <th></th>\n",
       "      <th>BMI점수</th>\n",
       "      <th>BMI등급</th>\n",
       "    </tr>\n",
       "    <tr>\n",
       "      <th>학번</th>\n",
       "      <th></th>\n",
       "      <th></th>\n",
       "    </tr>\n",
       "  </thead>\n",
       "  <tbody>\n",
       "    <tr>\n",
       "      <th>4</th>\n",
       "      <td>21.03</td>\n",
       "      <td>정상</td>\n",
       "    </tr>\n",
       "    <tr>\n",
       "      <th>6</th>\n",
       "      <td>26.32</td>\n",
       "      <td>비만</td>\n",
       "    </tr>\n",
       "  </tbody>\n",
       "</table>\n",
       "</div>"
      ],
      "text/plain": [
       "    BMI점수 BMI등급\n",
       "학번             \n",
       "4   21.03    정상\n",
       "6   26.32    비만"
      ]
     },
     "execution_count": 17,
     "metadata": {},
     "output_type": "execute_result"
    }
   ],
   "source": [
    "df.loc[[4,6],['BMI점수', 'BMI등급']]     #명시적 인덱스 \n",
    "# df.ilco[[3,5],[3,4]] 묵시적 인덱스로 같은표현"
   ]
  },
  {
   "cell_type": "code",
   "execution_count": 18,
   "id": "ba9badf2",
   "metadata": {},
   "outputs": [
    {
     "data": {
      "text/html": [
       "<div>\n",
       "<style scoped>\n",
       "    .dataframe tbody tr th:only-of-type {\n",
       "        vertical-align: middle;\n",
       "    }\n",
       "\n",
       "    .dataframe tbody tr th {\n",
       "        vertical-align: top;\n",
       "    }\n",
       "\n",
       "    .dataframe thead th {\n",
       "        text-align: right;\n",
       "    }\n",
       "</style>\n",
       "<table border=\"1\" class=\"dataframe\">\n",
       "  <thead>\n",
       "    <tr style=\"text-align: right;\">\n",
       "      <th></th>\n",
       "      <th>BMI점수</th>\n",
       "      <th>BMI등급</th>\n",
       "    </tr>\n",
       "    <tr>\n",
       "      <th>학번</th>\n",
       "      <th></th>\n",
       "      <th></th>\n",
       "    </tr>\n",
       "  </thead>\n",
       "  <tbody>\n",
       "    <tr>\n",
       "      <th>4</th>\n",
       "      <td>21.03</td>\n",
       "      <td>정상</td>\n",
       "    </tr>\n",
       "    <tr>\n",
       "      <th>5</th>\n",
       "      <td>21.40</td>\n",
       "      <td>정상</td>\n",
       "    </tr>\n",
       "  </tbody>\n",
       "</table>\n",
       "</div>"
      ],
      "text/plain": [
       "    BMI점수 BMI등급\n",
       "학번             \n",
       "4   21.03    정상\n",
       "5   21.40    정상"
      ]
     },
     "execution_count": 18,
     "metadata": {},
     "output_type": "execute_result"
    }
   ],
   "source": [
    "df.loc[4:5, 'BMI점수':'BMI등급']    #명시적 인덱스를 사용하면 끝나는 인덱스 또한 들어간다. -> 이름을 사용했음으로 포함인듯 "
   ]
  },
  {
   "cell_type": "code",
   "execution_count": 19,
   "id": "60da989e",
   "metadata": {},
   "outputs": [
    {
     "data": {
      "text/plain": [
       "학번\n",
       "1      True\n",
       "2     False\n",
       "3     False\n",
       "4     False\n",
       "5     False\n",
       "6      True\n",
       "7     False\n",
       "8     False\n",
       "9     False\n",
       "10     True\n",
       "Name: BMI점수, dtype: bool"
      ]
     },
     "execution_count": 19,
     "metadata": {},
     "output_type": "execute_result"
    }
   ],
   "source": [
    "df['BMI점수'] >= 25 #불리언 벡터"
   ]
  },
  {
   "cell_type": "code",
   "execution_count": 20,
   "id": "1ac36c7e",
   "metadata": {},
   "outputs": [
    {
     "data": {
      "text/plain": [
       "pandas.core.series.Series"
      ]
     },
     "execution_count": 20,
     "metadata": {},
     "output_type": "execute_result"
    }
   ],
   "source": [
    "type(df['BMI점수'])"
   ]
  },
  {
   "cell_type": "code",
   "execution_count": 21,
   "id": "fb29bcd8",
   "metadata": {},
   "outputs": [
    {
     "data": {
      "text/html": [
       "<div>\n",
       "<style scoped>\n",
       "    .dataframe tbody tr th:only-of-type {\n",
       "        vertical-align: middle;\n",
       "    }\n",
       "\n",
       "    .dataframe tbody tr th {\n",
       "        vertical-align: top;\n",
       "    }\n",
       "\n",
       "    .dataframe thead th {\n",
       "        text-align: right;\n",
       "    }\n",
       "</style>\n",
       "<table border=\"1\" class=\"dataframe\">\n",
       "  <thead>\n",
       "    <tr style=\"text-align: right;\">\n",
       "      <th></th>\n",
       "      <th>BMI점수</th>\n",
       "    </tr>\n",
       "    <tr>\n",
       "      <th>학번</th>\n",
       "      <th></th>\n",
       "    </tr>\n",
       "  </thead>\n",
       "  <tbody>\n",
       "    <tr>\n",
       "      <th>1</th>\n",
       "      <td>25.38</td>\n",
       "    </tr>\n",
       "    <tr>\n",
       "      <th>2</th>\n",
       "      <td>16.49</td>\n",
       "    </tr>\n",
       "    <tr>\n",
       "      <th>3</th>\n",
       "      <td>21.96</td>\n",
       "    </tr>\n",
       "    <tr>\n",
       "      <th>4</th>\n",
       "      <td>21.03</td>\n",
       "    </tr>\n",
       "    <tr>\n",
       "      <th>5</th>\n",
       "      <td>21.40</td>\n",
       "    </tr>\n",
       "    <tr>\n",
       "      <th>6</th>\n",
       "      <td>26.32</td>\n",
       "    </tr>\n",
       "    <tr>\n",
       "      <th>7</th>\n",
       "      <td>22.64</td>\n",
       "    </tr>\n",
       "    <tr>\n",
       "      <th>8</th>\n",
       "      <td>24.65</td>\n",
       "    </tr>\n",
       "    <tr>\n",
       "      <th>9</th>\n",
       "      <td>20.83</td>\n",
       "    </tr>\n",
       "    <tr>\n",
       "      <th>10</th>\n",
       "      <td>26.01</td>\n",
       "    </tr>\n",
       "  </tbody>\n",
       "</table>\n",
       "</div>"
      ],
      "text/plain": [
       "    BMI점수\n",
       "학번       \n",
       "1   25.38\n",
       "2   16.49\n",
       "3   21.96\n",
       "4   21.03\n",
       "5   21.40\n",
       "6   26.32\n",
       "7   22.64\n",
       "8   24.65\n",
       "9   20.83\n",
       "10  26.01"
      ]
     },
     "execution_count": 21,
     "metadata": {},
     "output_type": "execute_result"
    }
   ],
   "source": [
    "df.loc[:, ['BMI점수']]    #데이타 프레임 형식"
   ]
  },
  {
   "cell_type": "code",
   "execution_count": 22,
   "id": "861a7263",
   "metadata": {},
   "outputs": [
    {
     "data": {
      "text/plain": [
       "학번\n",
       "1     25.38\n",
       "2     16.49\n",
       "3     21.96\n",
       "4     21.03\n",
       "5     21.40\n",
       "6     26.32\n",
       "7     22.64\n",
       "8     24.65\n",
       "9     20.83\n",
       "10    26.01\n",
       "Name: BMI점수, dtype: float64"
      ]
     },
     "execution_count": 22,
     "metadata": {},
     "output_type": "execute_result"
    }
   ],
   "source": [
    "df.loc[:, 'BMI점수']    # 시리즈 형식"
   ]
  },
  {
   "cell_type": "code",
   "execution_count": 23,
   "id": "a7fcdea7",
   "metadata": {},
   "outputs": [
    {
     "data": {
      "text/plain": [
       "(10,)"
      ]
     },
     "execution_count": 23,
     "metadata": {},
     "output_type": "execute_result"
    }
   ],
   "source": [
    "df.loc[:, 'BMI점수'].shape    # 행백터로 나옴 머신런닝할때 열백터를 사용해야함,"
   ]
  },
  {
   "cell_type": "code",
   "execution_count": 24,
   "id": "e66b6e21",
   "metadata": {},
   "outputs": [
    {
     "data": {
      "text/plain": [
       "(10, 1)"
      ]
     },
     "execution_count": 24,
     "metadata": {},
     "output_type": "execute_result"
    }
   ],
   "source": [
    "df.loc[:, ['BMI점수']].shape    # 열백터로 반환 fancy index를 사용해야하는 이유"
   ]
  },
  {
   "cell_type": "code",
   "execution_count": 25,
   "id": "19639196",
   "metadata": {},
   "outputs": [
    {
     "data": {
      "text/plain": [
       "2"
      ]
     },
     "execution_count": 25,
     "metadata": {},
     "output_type": "execute_result"
    }
   ],
   "source": [
    "df.loc[:, ['BMI점수']] .ndim"
   ]
  },
  {
   "cell_type": "code",
   "execution_count": 26,
   "id": "691796f1",
   "metadata": {},
   "outputs": [
    {
     "data": {
      "text/plain": [
       "학년           1\n",
       "몸무게       60.2\n",
       "키        154.0\n",
       "BMI점수    25.38\n",
       "BMI등급       비만\n",
       "Name: 1, dtype: object"
      ]
     },
     "execution_count": 26,
     "metadata": {},
     "output_type": "execute_result"
    }
   ],
   "source": [
    "df.iloc[0]    # 행만 꺼내와도 시리즈가 나옴 "
   ]
  },
  {
   "cell_type": "code",
   "execution_count": 27,
   "id": "3407017e",
   "metadata": {},
   "outputs": [
    {
     "data": {
      "text/html": [
       "<div>\n",
       "<style scoped>\n",
       "    .dataframe tbody tr th:only-of-type {\n",
       "        vertical-align: middle;\n",
       "    }\n",
       "\n",
       "    .dataframe tbody tr th {\n",
       "        vertical-align: top;\n",
       "    }\n",
       "\n",
       "    .dataframe thead th {\n",
       "        text-align: right;\n",
       "    }\n",
       "</style>\n",
       "<table border=\"1\" class=\"dataframe\">\n",
       "  <thead>\n",
       "    <tr style=\"text-align: right;\">\n",
       "      <th></th>\n",
       "      <th>학년</th>\n",
       "      <th>몸무게</th>\n",
       "      <th>키</th>\n",
       "      <th>BMI점수</th>\n",
       "      <th>BMI등급</th>\n",
       "    </tr>\n",
       "    <tr>\n",
       "      <th>학번</th>\n",
       "      <th></th>\n",
       "      <th></th>\n",
       "      <th></th>\n",
       "      <th></th>\n",
       "      <th></th>\n",
       "    </tr>\n",
       "  </thead>\n",
       "  <tbody>\n",
       "    <tr>\n",
       "      <th>1</th>\n",
       "      <td>1</td>\n",
       "      <td>60.2</td>\n",
       "      <td>154.0</td>\n",
       "      <td>25.38</td>\n",
       "      <td>비만</td>\n",
       "    </tr>\n",
       "  </tbody>\n",
       "</table>\n",
       "</div>"
      ],
      "text/plain": [
       "    학년   몸무게      키  BMI점수 BMI등급\n",
       "학번                              \n",
       "1    1  60.2  154.0  25.38    비만"
      ]
     },
     "execution_count": 27,
     "metadata": {},
     "output_type": "execute_result"
    }
   ],
   "source": [
    "df.iloc[[0]]    # DF로 보고싶으면 [[]]을 사용. 2차원 구조임 "
   ]
  },
  {
   "cell_type": "code",
   "execution_count": 28,
   "id": "ec08f4fc",
   "metadata": {},
   "outputs": [
    {
     "data": {
      "text/html": [
       "<div>\n",
       "<style scoped>\n",
       "    .dataframe tbody tr th:only-of-type {\n",
       "        vertical-align: middle;\n",
       "    }\n",
       "\n",
       "    .dataframe tbody tr th {\n",
       "        vertical-align: top;\n",
       "    }\n",
       "\n",
       "    .dataframe thead th {\n",
       "        text-align: right;\n",
       "    }\n",
       "</style>\n",
       "<table border=\"1\" class=\"dataframe\">\n",
       "  <thead>\n",
       "    <tr style=\"text-align: right;\">\n",
       "      <th></th>\n",
       "      <th>학년</th>\n",
       "      <th>키</th>\n",
       "      <th>BMI등급</th>\n",
       "    </tr>\n",
       "    <tr>\n",
       "      <th>학번</th>\n",
       "      <th></th>\n",
       "      <th></th>\n",
       "      <th></th>\n",
       "    </tr>\n",
       "  </thead>\n",
       "  <tbody>\n",
       "    <tr>\n",
       "      <th>1</th>\n",
       "      <td>1</td>\n",
       "      <td>154.0</td>\n",
       "      <td>비만</td>\n",
       "    </tr>\n",
       "    <tr>\n",
       "      <th>2</th>\n",
       "      <td>1</td>\n",
       "      <td>174.5</td>\n",
       "      <td>저체중</td>\n",
       "    </tr>\n",
       "    <tr>\n",
       "      <th>3</th>\n",
       "      <td>1</td>\n",
       "      <td>177.0</td>\n",
       "      <td>정상</td>\n",
       "    </tr>\n",
       "    <tr>\n",
       "      <th>4</th>\n",
       "      <td>2</td>\n",
       "      <td>167.5</td>\n",
       "      <td>정상</td>\n",
       "    </tr>\n",
       "    <tr>\n",
       "      <th>5</th>\n",
       "      <td>2</td>\n",
       "      <td>182.0</td>\n",
       "      <td>정상</td>\n",
       "    </tr>\n",
       "    <tr>\n",
       "      <th>6</th>\n",
       "      <td>2</td>\n",
       "      <td>170.5</td>\n",
       "      <td>비만</td>\n",
       "    </tr>\n",
       "    <tr>\n",
       "      <th>7</th>\n",
       "      <td>3</td>\n",
       "      <td>171.5</td>\n",
       "      <td>정상</td>\n",
       "    </tr>\n",
       "    <tr>\n",
       "      <th>8</th>\n",
       "      <td>3</td>\n",
       "      <td>187.0</td>\n",
       "      <td>과체중</td>\n",
       "    </tr>\n",
       "    <tr>\n",
       "      <th>9</th>\n",
       "      <td>3</td>\n",
       "      <td>178.0</td>\n",
       "      <td>정상</td>\n",
       "    </tr>\n",
       "    <tr>\n",
       "      <th>10</th>\n",
       "      <td>3</td>\n",
       "      <td>172.5</td>\n",
       "      <td>비만</td>\n",
       "    </tr>\n",
       "  </tbody>\n",
       "</table>\n",
       "</div>"
      ],
      "text/plain": [
       "    학년      키 BMI등급\n",
       "학번                 \n",
       "1    1  154.0    비만\n",
       "2    1  174.5   저체중\n",
       "3    1  177.0    정상\n",
       "4    2  167.5    정상\n",
       "5    2  182.0    정상\n",
       "6    2  170.5    비만\n",
       "7    3  171.5    정상\n",
       "8    3  187.0   과체중\n",
       "9    3  178.0    정상\n",
       "10   3  172.5    비만"
      ]
     },
     "execution_count": 28,
     "metadata": {},
     "output_type": "execute_result"
    }
   ],
   "source": [
    "df.iloc[:, [True, False, True, False, True]]    # 불형을 통해서 가능"
   ]
  },
  {
   "cell_type": "code",
   "execution_count": 29,
   "id": "d56adb94",
   "metadata": {},
   "outputs": [
    {
     "data": {
      "text/html": [
       "<div>\n",
       "<style scoped>\n",
       "    .dataframe tbody tr th:only-of-type {\n",
       "        vertical-align: middle;\n",
       "    }\n",
       "\n",
       "    .dataframe tbody tr th {\n",
       "        vertical-align: top;\n",
       "    }\n",
       "\n",
       "    .dataframe thead th {\n",
       "        text-align: right;\n",
       "    }\n",
       "</style>\n",
       "<table border=\"1\" class=\"dataframe\">\n",
       "  <thead>\n",
       "    <tr style=\"text-align: right;\">\n",
       "      <th></th>\n",
       "      <th>학년</th>\n",
       "      <th>키</th>\n",
       "      <th>BMI등급</th>\n",
       "    </tr>\n",
       "    <tr>\n",
       "      <th>학번</th>\n",
       "      <th></th>\n",
       "      <th></th>\n",
       "      <th></th>\n",
       "    </tr>\n",
       "  </thead>\n",
       "  <tbody>\n",
       "    <tr>\n",
       "      <th>1</th>\n",
       "      <td>1</td>\n",
       "      <td>154.0</td>\n",
       "      <td>비만</td>\n",
       "    </tr>\n",
       "    <tr>\n",
       "      <th>2</th>\n",
       "      <td>1</td>\n",
       "      <td>174.5</td>\n",
       "      <td>저체중</td>\n",
       "    </tr>\n",
       "    <tr>\n",
       "      <th>3</th>\n",
       "      <td>1</td>\n",
       "      <td>177.0</td>\n",
       "      <td>정상</td>\n",
       "    </tr>\n",
       "    <tr>\n",
       "      <th>4</th>\n",
       "      <td>2</td>\n",
       "      <td>167.5</td>\n",
       "      <td>정상</td>\n",
       "    </tr>\n",
       "    <tr>\n",
       "      <th>5</th>\n",
       "      <td>2</td>\n",
       "      <td>182.0</td>\n",
       "      <td>정상</td>\n",
       "    </tr>\n",
       "    <tr>\n",
       "      <th>6</th>\n",
       "      <td>2</td>\n",
       "      <td>170.5</td>\n",
       "      <td>비만</td>\n",
       "    </tr>\n",
       "    <tr>\n",
       "      <th>7</th>\n",
       "      <td>3</td>\n",
       "      <td>171.5</td>\n",
       "      <td>정상</td>\n",
       "    </tr>\n",
       "    <tr>\n",
       "      <th>8</th>\n",
       "      <td>3</td>\n",
       "      <td>187.0</td>\n",
       "      <td>과체중</td>\n",
       "    </tr>\n",
       "    <tr>\n",
       "      <th>9</th>\n",
       "      <td>3</td>\n",
       "      <td>178.0</td>\n",
       "      <td>정상</td>\n",
       "    </tr>\n",
       "    <tr>\n",
       "      <th>10</th>\n",
       "      <td>3</td>\n",
       "      <td>172.5</td>\n",
       "      <td>비만</td>\n",
       "    </tr>\n",
       "  </tbody>\n",
       "</table>\n",
       "</div>"
      ],
      "text/plain": [
       "    학년      키 BMI등급\n",
       "학번                 \n",
       "1    1  154.0    비만\n",
       "2    1  174.5   저체중\n",
       "3    1  177.0    정상\n",
       "4    2  167.5    정상\n",
       "5    2  182.0    정상\n",
       "6    2  170.5    비만\n",
       "7    3  171.5    정상\n",
       "8    3  187.0   과체중\n",
       "9    3  178.0    정상\n",
       "10   3  172.5    비만"
      ]
     },
     "execution_count": 29,
     "metadata": {},
     "output_type": "execute_result"
    }
   ],
   "source": [
    "df.iloc[:, lambda df: [0, 2, 4]]    # 람다식을 이용도 가능"
   ]
  },
  {
   "cell_type": "code",
   "execution_count": 30,
   "id": "f133a808",
   "metadata": {},
   "outputs": [
    {
     "data": {
      "text/html": [
       "<div>\n",
       "<style scoped>\n",
       "    .dataframe tbody tr th:only-of-type {\n",
       "        vertical-align: middle;\n",
       "    }\n",
       "\n",
       "    .dataframe tbody tr th {\n",
       "        vertical-align: top;\n",
       "    }\n",
       "\n",
       "    .dataframe thead th {\n",
       "        text-align: right;\n",
       "    }\n",
       "</style>\n",
       "<table border=\"1\" class=\"dataframe\">\n",
       "  <thead>\n",
       "    <tr style=\"text-align: right;\">\n",
       "      <th></th>\n",
       "      <th>학년</th>\n",
       "      <th>몸무게</th>\n",
       "      <th>키</th>\n",
       "      <th>BMI점수</th>\n",
       "      <th>BMI등급</th>\n",
       "    </tr>\n",
       "    <tr>\n",
       "      <th>학번</th>\n",
       "      <th></th>\n",
       "      <th></th>\n",
       "      <th></th>\n",
       "      <th></th>\n",
       "      <th></th>\n",
       "    </tr>\n",
       "  </thead>\n",
       "  <tbody>\n",
       "    <tr>\n",
       "      <th>2</th>\n",
       "      <td>1</td>\n",
       "      <td>50.2</td>\n",
       "      <td>174.5</td>\n",
       "      <td>16.49</td>\n",
       "      <td>저체중</td>\n",
       "    </tr>\n",
       "    <tr>\n",
       "      <th>4</th>\n",
       "      <td>2</td>\n",
       "      <td>59.0</td>\n",
       "      <td>167.5</td>\n",
       "      <td>21.03</td>\n",
       "      <td>정상</td>\n",
       "    </tr>\n",
       "    <tr>\n",
       "      <th>6</th>\n",
       "      <td>2</td>\n",
       "      <td>76.5</td>\n",
       "      <td>170.5</td>\n",
       "      <td>26.32</td>\n",
       "      <td>비만</td>\n",
       "    </tr>\n",
       "    <tr>\n",
       "      <th>8</th>\n",
       "      <td>3</td>\n",
       "      <td>86.2</td>\n",
       "      <td>187.0</td>\n",
       "      <td>24.65</td>\n",
       "      <td>과체중</td>\n",
       "    </tr>\n",
       "    <tr>\n",
       "      <th>10</th>\n",
       "      <td>3</td>\n",
       "      <td>77.4</td>\n",
       "      <td>172.5</td>\n",
       "      <td>26.01</td>\n",
       "      <td>비만</td>\n",
       "    </tr>\n",
       "  </tbody>\n",
       "</table>\n",
       "</div>"
      ],
      "text/plain": [
       "    학년   몸무게      키  BMI점수 BMI등급\n",
       "학번                              \n",
       "2    1  50.2  174.5  16.49   저체중\n",
       "4    2  59.0  167.5  21.03    정상\n",
       "6    2  76.5  170.5  26.32    비만\n",
       "8    3  86.2  187.0  24.65   과체중\n",
       "10   3  77.4  172.5  26.01    비만"
      ]
     },
     "execution_count": 30,
     "metadata": {},
     "output_type": "execute_result"
    }
   ],
   "source": [
    "df.iloc[lambda x: x.index % 2 == 0, :]     # x는 df임, 인덱서는 1번부터 진행됨."
   ]
  },
  {
   "cell_type": "code",
   "execution_count": 31,
   "id": "7fcc5f21",
   "metadata": {},
   "outputs": [
    {
     "name": "stdout",
     "output_type": "stream",
     "text": [
      "(10, 5)\n",
      "10\n",
      "5\n"
     ]
    }
   ],
   "source": [
    "print(df.shape)\n",
    "print(df.shape[0])\n",
    "print(df.shape[1])"
   ]
  },
  {
   "cell_type": "code",
   "execution_count": 32,
   "id": "a2764b0c",
   "metadata": {},
   "outputs": [
    {
     "name": "stdout",
     "output_type": "stream",
     "text": [
      "<class 'pandas.core.frame.DataFrame'>\n",
      "Int64Index: 10 entries, 1 to 10\n",
      "Data columns (total 5 columns):\n",
      " #   Column  Non-Null Count  Dtype   \n",
      "---  ------  --------------  -----   \n",
      " 0   학년      10 non-null     int64   \n",
      " 1   몸무게     10 non-null     float64 \n",
      " 2   키       10 non-null     float64 \n",
      " 3   BMI점수   10 non-null     float64 \n",
      " 4   BMI등급   10 non-null     category\n",
      "dtypes: category(1), float64(3), int64(1)\n",
      "memory usage: 914.0 bytes\n"
     ]
    }
   ],
   "source": [
    "df.info()    # 데이터의 상태를 확인"
   ]
  },
  {
   "cell_type": "code",
   "execution_count": 33,
   "id": "c3324c01",
   "metadata": {},
   "outputs": [
    {
     "data": {
      "text/html": [
       "<div>\n",
       "<style scoped>\n",
       "    .dataframe tbody tr th:only-of-type {\n",
       "        vertical-align: middle;\n",
       "    }\n",
       "\n",
       "    .dataframe tbody tr th {\n",
       "        vertical-align: top;\n",
       "    }\n",
       "\n",
       "    .dataframe thead th {\n",
       "        text-align: right;\n",
       "    }\n",
       "</style>\n",
       "<table border=\"1\" class=\"dataframe\">\n",
       "  <thead>\n",
       "    <tr style=\"text-align: right;\">\n",
       "      <th></th>\n",
       "      <th>몸무게</th>\n",
       "      <th>키</th>\n",
       "    </tr>\n",
       "  </thead>\n",
       "  <tbody>\n",
       "    <tr>\n",
       "      <th>count</th>\n",
       "      <td>10.000000</td>\n",
       "      <td>10.00000</td>\n",
       "    </tr>\n",
       "    <tr>\n",
       "      <th>mean</th>\n",
       "      <td>68.180000</td>\n",
       "      <td>173.45000</td>\n",
       "    </tr>\n",
       "    <tr>\n",
       "      <th>std</th>\n",
       "      <td>10.355975</td>\n",
       "      <td>8.93324</td>\n",
       "    </tr>\n",
       "    <tr>\n",
       "      <th>min</th>\n",
       "      <td>50.200000</td>\n",
       "      <td>154.00000</td>\n",
       "    </tr>\n",
       "    <tr>\n",
       "      <th>25%</th>\n",
       "      <td>61.650000</td>\n",
       "      <td>170.75000</td>\n",
       "    </tr>\n",
       "    <tr>\n",
       "      <th>50%</th>\n",
       "      <td>67.700000</td>\n",
       "      <td>173.50000</td>\n",
       "    </tr>\n",
       "    <tr>\n",
       "      <th>75%</th>\n",
       "      <td>75.100000</td>\n",
       "      <td>177.75000</td>\n",
       "    </tr>\n",
       "    <tr>\n",
       "      <th>max</th>\n",
       "      <td>86.200000</td>\n",
       "      <td>187.00000</td>\n",
       "    </tr>\n",
       "  </tbody>\n",
       "</table>\n",
       "</div>"
      ],
      "text/plain": [
       "             몸무게          키\n",
       "count  10.000000   10.00000\n",
       "mean   68.180000  173.45000\n",
       "std    10.355975    8.93324\n",
       "min    50.200000  154.00000\n",
       "25%    61.650000  170.75000\n",
       "50%    67.700000  173.50000\n",
       "75%    75.100000  177.75000\n",
       "max    86.200000  187.00000"
      ]
     },
     "execution_count": 33,
     "metadata": {},
     "output_type": "execute_result"
    }
   ],
   "source": [
    "df.iloc[:,1:3].describe()    # 요약 통계량 "
   ]
  },
  {
   "cell_type": "code",
   "execution_count": 34,
   "id": "df8c2103",
   "metadata": {},
   "outputs": [
    {
     "data": {
      "text/html": [
       "<div>\n",
       "<style scoped>\n",
       "    .dataframe tbody tr th:only-of-type {\n",
       "        vertical-align: middle;\n",
       "    }\n",
       "\n",
       "    .dataframe tbody tr th {\n",
       "        vertical-align: top;\n",
       "    }\n",
       "\n",
       "    .dataframe thead th {\n",
       "        text-align: right;\n",
       "    }\n",
       "</style>\n",
       "<table border=\"1\" class=\"dataframe\">\n",
       "  <thead>\n",
       "    <tr style=\"text-align: right;\">\n",
       "      <th></th>\n",
       "      <th>영어</th>\n",
       "      <th>수학</th>\n",
       "    </tr>\n",
       "    <tr>\n",
       "      <th>학번</th>\n",
       "      <th></th>\n",
       "      <th></th>\n",
       "    </tr>\n",
       "  </thead>\n",
       "  <tbody>\n",
       "    <tr>\n",
       "      <th>1</th>\n",
       "      <td>42</td>\n",
       "      <td>65</td>\n",
       "    </tr>\n",
       "    <tr>\n",
       "      <th>2</th>\n",
       "      <td>69</td>\n",
       "      <td>80</td>\n",
       "    </tr>\n",
       "    <tr>\n",
       "      <th>3</th>\n",
       "      <td>56</td>\n",
       "      <td>63</td>\n",
       "    </tr>\n",
       "    <tr>\n",
       "      <th>4</th>\n",
       "      <td>41</td>\n",
       "      <td>63</td>\n",
       "    </tr>\n",
       "    <tr>\n",
       "      <th>5</th>\n",
       "      <td>57</td>\n",
       "      <td>76</td>\n",
       "    </tr>\n",
       "  </tbody>\n",
       "</table>\n",
       "</div>"
      ],
      "text/plain": [
       "    영어  수학\n",
       "학번        \n",
       "1   42  65\n",
       "2   69  80\n",
       "3   56  63\n",
       "4   41  63\n",
       "5   57  76"
      ]
     },
     "execution_count": 34,
     "metadata": {},
     "output_type": "execute_result"
    }
   ],
   "source": [
    "df = pd.read_csv('data/scores_50.csv', index_col='학번')\n",
    "df.head()"
   ]
  },
  {
   "cell_type": "markdown",
   "id": "277224e7",
   "metadata": {},
   "source": [
    "대표값: 데이터를 하나의 값으로 요약한 지표\n",
    "\n",
    "평균(기대값) mean\n",
    "\n",
    "중앙값 median\n",
    "\n",
    "최빈값 mode\n",
    "\n",
    "3개의 값이 비슷하면 중앙으로 고루 모여있다는 뜻."
   ]
  },
  {
   "cell_type": "code",
   "execution_count": 35,
   "id": "d1866531",
   "metadata": {},
   "outputs": [
    {
     "data": {
      "text/plain": [
       "array([42, 69, 56, 41, 57, 48, 65, 49, 65, 58], dtype=int64)"
      ]
     },
     "execution_count": 35,
     "metadata": {},
     "output_type": "execute_result"
    }
   ],
   "source": [
    "scores = df.loc[1:10,'영어'].to_numpy()\n",
    "scores"
   ]
  },
  {
   "cell_type": "code",
   "execution_count": 36,
   "id": "e4fa3402",
   "metadata": {},
   "outputs": [
    {
     "data": {
      "text/plain": [
       "['a', 'b', 'c']"
      ]
     },
     "execution_count": 36,
     "metadata": {},
     "output_type": "execute_result"
    }
   ],
   "source": [
    "list('abc')"
   ]
  },
  {
   "cell_type": "code",
   "execution_count": 37,
   "id": "2033d699",
   "metadata": {},
   "outputs": [
    {
     "data": {
      "text/html": [
       "<div>\n",
       "<style scoped>\n",
       "    .dataframe tbody tr th:only-of-type {\n",
       "        vertical-align: middle;\n",
       "    }\n",
       "\n",
       "    .dataframe tbody tr th {\n",
       "        vertical-align: top;\n",
       "    }\n",
       "\n",
       "    .dataframe thead th {\n",
       "        text-align: right;\n",
       "    }\n",
       "</style>\n",
       "<table border=\"1\" class=\"dataframe\">\n",
       "  <thead>\n",
       "    <tr style=\"text-align: right;\">\n",
       "      <th></th>\n",
       "      <th>score</th>\n",
       "    </tr>\n",
       "    <tr>\n",
       "      <th>student</th>\n",
       "      <th></th>\n",
       "    </tr>\n",
       "  </thead>\n",
       "  <tbody>\n",
       "    <tr>\n",
       "      <th>A</th>\n",
       "      <td>42</td>\n",
       "    </tr>\n",
       "    <tr>\n",
       "      <th>B</th>\n",
       "      <td>69</td>\n",
       "    </tr>\n",
       "    <tr>\n",
       "      <th>C</th>\n",
       "      <td>56</td>\n",
       "    </tr>\n",
       "    <tr>\n",
       "      <th>D</th>\n",
       "      <td>41</td>\n",
       "    </tr>\n",
       "    <tr>\n",
       "      <th>E</th>\n",
       "      <td>57</td>\n",
       "    </tr>\n",
       "    <tr>\n",
       "      <th>F</th>\n",
       "      <td>48</td>\n",
       "    </tr>\n",
       "    <tr>\n",
       "      <th>G</th>\n",
       "      <td>65</td>\n",
       "    </tr>\n",
       "    <tr>\n",
       "      <th>H</th>\n",
       "      <td>49</td>\n",
       "    </tr>\n",
       "    <tr>\n",
       "      <th>I</th>\n",
       "      <td>65</td>\n",
       "    </tr>\n",
       "    <tr>\n",
       "      <th>J</th>\n",
       "      <td>58</td>\n",
       "    </tr>\n",
       "  </tbody>\n",
       "</table>\n",
       "</div>"
      ],
      "text/plain": [
       "         score\n",
       "student       \n",
       "A           42\n",
       "B           69\n",
       "C           56\n",
       "D           41\n",
       "E           57\n",
       "F           48\n",
       "G           65\n",
       "H           49\n",
       "I           65\n",
       "J           58"
      ]
     },
     "execution_count": 37,
     "metadata": {},
     "output_type": "execute_result"
    }
   ],
   "source": [
    "scores_df = pd.DataFrame({'score' : scores}, index=pd.Index(list('ABCDEFGHIJ'), name='student'))\n",
    "scores_df"
   ]
  },
  {
   "cell_type": "code",
   "execution_count": 38,
   "id": "9b5b26a1",
   "metadata": {},
   "outputs": [
    {
     "data": {
      "text/plain": [
       "score    55.0\n",
       "dtype: float64"
      ]
     },
     "execution_count": 38,
     "metadata": {},
     "output_type": "execute_result"
    }
   ],
   "source": [
    "scores_df.mean()    # 평균값"
   ]
  },
  {
   "cell_type": "code",
   "execution_count": 39,
   "id": "976c3230",
   "metadata": {},
   "outputs": [
    {
     "data": {
      "text/plain": [
       "영어    58.38\n",
       "수학    78.88\n",
       "dtype: float64"
      ]
     },
     "execution_count": 39,
     "metadata": {},
     "output_type": "execute_result"
    }
   ],
   "source": [
    "df.mean()    # 2개 이상의 열이 있는 데이터를 평균을 구하면 그 값은 시리즈로 나옴"
   ]
  },
  {
   "cell_type": "code",
   "execution_count": 40,
   "id": "b509bf0c",
   "metadata": {},
   "outputs": [
    {
     "data": {
      "text/plain": [
       "score    56.5\n",
       "dtype: float64"
      ]
     },
     "execution_count": 40,
     "metadata": {},
     "output_type": "execute_result"
    }
   ],
   "source": [
    "scores_df.median()    # 중앙값"
   ]
  },
  {
   "cell_type": "code",
   "execution_count": 41,
   "id": "e0ae35d8",
   "metadata": {},
   "outputs": [
    {
     "data": {
      "text/plain": [
       "0    3\n",
       "1    4\n",
       "dtype: object"
      ]
     },
     "execution_count": 41,
     "metadata": {},
     "output_type": "execute_result"
    }
   ],
   "source": [
    "pd.Series(list('123334445')).mode()    # 최빈값"
   ]
  },
  {
   "cell_type": "markdown",
   "id": "8f6ee0da",
   "metadata": {},
   "source": [
    "sum()은 axis=0임으로 인덱스 축 방향으로 전부 더한다.\n",
    "\n",
    "axis=1을 하면 컬럼축 방향으로 더한다."
   ]
  },
  {
   "cell_type": "code",
   "execution_count": 42,
   "id": "93835fb5",
   "metadata": {},
   "outputs": [
    {
     "data": {
      "text/plain": [
       "영어    2919\n",
       "수학    3944\n",
       "dtype: int64"
      ]
     },
     "execution_count": 42,
     "metadata": {},
     "output_type": "execute_result"
    }
   ],
   "source": [
    "df.sum()"
   ]
  },
  {
   "cell_type": "code",
   "execution_count": 43,
   "id": "c9c6405f",
   "metadata": {},
   "outputs": [
    {
     "data": {
      "text/html": [
       "<div>\n",
       "<style scoped>\n",
       "    .dataframe tbody tr th:only-of-type {\n",
       "        vertical-align: middle;\n",
       "    }\n",
       "\n",
       "    .dataframe tbody tr th {\n",
       "        vertical-align: top;\n",
       "    }\n",
       "\n",
       "    .dataframe thead th {\n",
       "        text-align: right;\n",
       "    }\n",
       "</style>\n",
       "<table border=\"1\" class=\"dataframe\">\n",
       "  <thead>\n",
       "    <tr style=\"text-align: right;\">\n",
       "      <th></th>\n",
       "      <th>영어</th>\n",
       "      <th>수학</th>\n",
       "      <th>총점</th>\n",
       "    </tr>\n",
       "    <tr>\n",
       "      <th>학번</th>\n",
       "      <th></th>\n",
       "      <th></th>\n",
       "      <th></th>\n",
       "    </tr>\n",
       "  </thead>\n",
       "  <tbody>\n",
       "    <tr>\n",
       "      <th>1</th>\n",
       "      <td>42</td>\n",
       "      <td>65</td>\n",
       "      <td>107</td>\n",
       "    </tr>\n",
       "    <tr>\n",
       "      <th>2</th>\n",
       "      <td>69</td>\n",
       "      <td>80</td>\n",
       "      <td>149</td>\n",
       "    </tr>\n",
       "    <tr>\n",
       "      <th>3</th>\n",
       "      <td>56</td>\n",
       "      <td>63</td>\n",
       "      <td>119</td>\n",
       "    </tr>\n",
       "    <tr>\n",
       "      <th>4</th>\n",
       "      <td>41</td>\n",
       "      <td>63</td>\n",
       "      <td>104</td>\n",
       "    </tr>\n",
       "    <tr>\n",
       "      <th>5</th>\n",
       "      <td>57</td>\n",
       "      <td>76</td>\n",
       "      <td>133</td>\n",
       "    </tr>\n",
       "  </tbody>\n",
       "</table>\n",
       "</div>"
      ],
      "text/plain": [
       "    영어  수학   총점\n",
       "학번             \n",
       "1   42  65  107\n",
       "2   69  80  149\n",
       "3   56  63  119\n",
       "4   41  63  104\n",
       "5   57  76  133"
      ]
     },
     "execution_count": 43,
     "metadata": {},
     "output_type": "execute_result"
    }
   ],
   "source": [
    "df['총점'] = df.sum(axis=1)\n",
    "df.head()"
   ]
  },
  {
   "cell_type": "code",
   "execution_count": 44,
   "id": "8c8b9fac",
   "metadata": {},
   "outputs": [
    {
     "name": "stdout",
     "output_type": "stream",
     "text": [
      "280.472\n",
      "286.196\n"
     ]
    },
    {
     "data": {
      "text/html": [
       "<div>\n",
       "<style scoped>\n",
       "    .dataframe tbody tr th:only-of-type {\n",
       "        vertical-align: middle;\n",
       "    }\n",
       "\n",
       "    .dataframe tbody tr th {\n",
       "        vertical-align: top;\n",
       "    }\n",
       "\n",
       "    .dataframe thead th {\n",
       "        text-align: right;\n",
       "    }\n",
       "</style>\n",
       "<table border=\"1\" class=\"dataframe\">\n",
       "  <thead>\n",
       "    <tr style=\"text-align: right;\">\n",
       "      <th></th>\n",
       "      <th>영어</th>\n",
       "      <th>수학</th>\n",
       "      <th>총점</th>\n",
       "      <th>편차</th>\n",
       "      <th>편차^2</th>\n",
       "    </tr>\n",
       "    <tr>\n",
       "      <th>학번</th>\n",
       "      <th></th>\n",
       "      <th></th>\n",
       "      <th></th>\n",
       "      <th></th>\n",
       "      <th></th>\n",
       "    </tr>\n",
       "  </thead>\n",
       "  <tbody>\n",
       "    <tr>\n",
       "      <th>1</th>\n",
       "      <td>42</td>\n",
       "      <td>65</td>\n",
       "      <td>107</td>\n",
       "      <td>-30.26</td>\n",
       "      <td>915.6676</td>\n",
       "    </tr>\n",
       "    <tr>\n",
       "      <th>2</th>\n",
       "      <td>69</td>\n",
       "      <td>80</td>\n",
       "      <td>149</td>\n",
       "      <td>11.74</td>\n",
       "      <td>137.8276</td>\n",
       "    </tr>\n",
       "    <tr>\n",
       "      <th>3</th>\n",
       "      <td>56</td>\n",
       "      <td>63</td>\n",
       "      <td>119</td>\n",
       "      <td>-18.26</td>\n",
       "      <td>333.4276</td>\n",
       "    </tr>\n",
       "    <tr>\n",
       "      <th>4</th>\n",
       "      <td>41</td>\n",
       "      <td>63</td>\n",
       "      <td>104</td>\n",
       "      <td>-33.26</td>\n",
       "      <td>1106.2276</td>\n",
       "    </tr>\n",
       "    <tr>\n",
       "      <th>5</th>\n",
       "      <td>57</td>\n",
       "      <td>76</td>\n",
       "      <td>133</td>\n",
       "      <td>-4.26</td>\n",
       "      <td>18.1476</td>\n",
       "    </tr>\n",
       "  </tbody>\n",
       "</table>\n",
       "</div>"
      ],
      "text/plain": [
       "    영어  수학   총점     편차       편차^2\n",
       "학번                               \n",
       "1   42  65  107 -30.26   915.6676\n",
       "2   69  80  149  11.74   137.8276\n",
       "3   56  63  119 -18.26   333.4276\n",
       "4   41  63  104 -33.26  1106.2276\n",
       "5   57  76  133  -4.26    18.1476"
      ]
     },
     "execution_count": 44,
     "metadata": {},
     "output_type": "execute_result"
    }
   ],
   "source": [
    "df['편차'] = df['총점']-df['총점'].mean()\n",
    "df['편차^2'] = np.power(df['편차'], 2)\n",
    "\n",
    "print(f\"{df['편차^2'].sum() / df.shape[0]:.3f}\")\n",
    "print(f\"{df['편차^2'].sum() / (df.shape[0] - 1):.3f}\")\n",
    "df.head()"
   ]
  },
  {
   "cell_type": "markdown",
   "id": "4a0f3360",
   "metadata": {},
   "source": [
    "var()은 ddof=1이 기본값,\n",
    "\n",
    "to_numpy().var()은 ddof=0이 기본값이다\n",
    "\n",
    "ddof=0은 불편분산 ddof=1은 표본분산(또는 N이면 모분산)이다."
   ]
  },
  {
   "cell_type": "code",
   "execution_count": 45,
   "id": "6b0cd937",
   "metadata": {},
   "outputs": [
    {
     "name": "stdout",
     "output_type": "stream",
     "text": [
      "286.196\n",
      "280.472\n",
      "286.196\n"
     ]
    }
   ],
   "source": [
    "print(f\"{df['총점'].var():.3f}\")\n",
    "print(f\"{df['총점'].to_numpy().var():.3f}\")\n",
    "print(f\"{df['총점'].to_numpy().var(ddof=1):.3f}\")"
   ]
  },
  {
   "cell_type": "markdown",
   "id": "1e43a4d5",
   "metadata": {},
   "source": [
    "std()도 var()처럼 pandas는 ddof=1이, numpy는 ddof=0이 기본값이다"
   ]
  },
  {
   "cell_type": "code",
   "execution_count": 46,
   "id": "07a89a1a",
   "metadata": {},
   "outputs": [
    {
     "data": {
      "text/plain": [
       "영어     9.799813\n",
       "수학     8.414371\n",
       "총점    16.917338\n",
       "dtype: float64"
      ]
     },
     "execution_count": 46,
     "metadata": {},
     "output_type": "execute_result"
    }
   ],
   "source": [
    "df.loc[:,['영어','수학','총점']].std(axis=0)"
   ]
  },
  {
   "cell_type": "code",
   "execution_count": 47,
   "id": "adcc4888",
   "metadata": {},
   "outputs": [
    {
     "data": {
      "text/plain": [
       "영어     9.799813\n",
       "수학     8.414371\n",
       "총점    16.917338\n",
       "dtype: float64"
      ]
     },
     "execution_count": 47,
     "metadata": {},
     "output_type": "execute_result"
    }
   ],
   "source": [
    "np.std(df.loc[:,['영어','수학','총점']], ddof=1, axis=0)"
   ]
  },
  {
   "cell_type": "code",
   "execution_count": 48,
   "id": "72b5bebf",
   "metadata": {},
   "outputs": [
    {
     "data": {
      "text/plain": [
       "영어     9.799813\n",
       "수학     8.414371\n",
       "총점    16.917338\n",
       "dtype: float64"
      ]
     },
     "execution_count": 48,
     "metadata": {},
     "output_type": "execute_result"
    }
   ],
   "source": [
    "df.loc[:,['영어','수학','총점']].std(axis='index')"
   ]
  },
  {
   "cell_type": "code",
   "execution_count": 49,
   "id": "bc59ad67",
   "metadata": {
    "scrolled": true
   },
   "outputs": [
    {
     "data": {
      "text/plain": [
       "학번\n",
       "1    32.959571\n",
       "2    43.362810\n",
       "3    34.530180\n",
       "4    31.973948\n",
       "5    39.551654\n",
       "dtype: float64"
      ]
     },
     "execution_count": 49,
     "metadata": {},
     "output_type": "execute_result"
    }
   ],
   "source": [
    "df.loc[:,['영어','수학','총점']].std(axis='columns').head()"
   ]
  },
  {
   "cell_type": "code",
   "execution_count": 50,
   "id": "902c523b",
   "metadata": {},
   "outputs": [
    {
     "data": {
      "text/plain": [
       "74"
      ]
     },
     "execution_count": 50,
     "metadata": {},
     "output_type": "execute_result"
    }
   ],
   "source": [
    "# 범위 최대값 - 최소값\n",
    "np.max(df['총점'])-np.min(df['총점'])"
   ]
  },
  {
   "cell_type": "markdown",
   "id": "24c1132c",
   "metadata": {},
   "source": [
    "apply()는 함수를 전달해주는 함수로 전달할 함수와 어떤 축에 적용할지를 설정할 수 있다."
   ]
  },
  {
   "cell_type": "code",
   "execution_count": 51,
   "id": "3dca169a",
   "metadata": {},
   "outputs": [
    {
     "data": {
      "text/plain": [
       "영어    42\n",
       "수학    37\n",
       "총점    74\n",
       "dtype: int64"
      ]
     },
     "execution_count": 51,
     "metadata": {},
     "output_type": "execute_result"
    }
   ],
   "source": [
    "df.loc[:, ['영어','수학','총점']].apply(lambda x: np.max(x) - np.min(x), axis=0)"
   ]
  },
  {
   "cell_type": "code",
   "execution_count": 52,
   "id": "4862c487",
   "metadata": {},
   "outputs": [
    {
     "data": {
      "text/plain": [
       "count     50.000000\n",
       "mean     137.260000\n",
       "std       16.917338\n",
       "min       94.000000\n",
       "25%      129.250000\n",
       "50%      139.000000\n",
       "75%      147.750000\n",
       "max      168.000000\n",
       "Name: 총점, dtype: float64"
      ]
     },
     "execution_count": 52,
     "metadata": {},
     "output_type": "execute_result"
    }
   ],
   "source": [
    "df['총점'].describe()"
   ]
  },
  {
   "cell_type": "markdown",
   "id": "7296ce47",
   "metadata": {},
   "source": [
    "하위 25%  50%  75%를 Q1 Q2 Q3로 정의하고 Q3 - Q1 = IQR을 구해 fance를 구한다."
   ]
  },
  {
   "cell_type": "code",
   "execution_count": 53,
   "id": "e693a034",
   "metadata": {},
   "outputs": [
    {
     "data": {
      "text/plain": [
       "18.5"
      ]
     },
     "execution_count": 53,
     "metadata": {},
     "output_type": "execute_result"
    }
   ],
   "source": [
    "# 백분위수 (0~100)\n",
    "Q = np.percentile(df['총점'], [25, 75])\n",
    "Q1 = Q[0]\n",
    "Q3 = Q[1]\n",
    "IQR = Q3- Q1\n",
    "IQR"
   ]
  },
  {
   "cell_type": "code",
   "execution_count": 54,
   "id": "31929dbe",
   "metadata": {},
   "outputs": [
    {
     "data": {
      "text/plain": [
       "18.5"
      ]
     },
     "execution_count": 54,
     "metadata": {},
     "output_type": "execute_result"
    }
   ],
   "source": [
    "# 분위수 (0~1)\n",
    "Q = np.quantile(df['총점'], [0.25, 0.75])\n",
    "Q1 = Q[0]\n",
    "Q3 = Q[1]\n",
    "IQR = Q3- Q1\n",
    "IQR"
   ]
  },
  {
   "cell_type": "code",
   "execution_count": 55,
   "id": "17629ddc",
   "metadata": {},
   "outputs": [
    {
     "data": {
      "text/html": [
       "<div>\n",
       "<style scoped>\n",
       "    .dataframe tbody tr th:only-of-type {\n",
       "        vertical-align: middle;\n",
       "    }\n",
       "\n",
       "    .dataframe tbody tr th {\n",
       "        vertical-align: top;\n",
       "    }\n",
       "\n",
       "    .dataframe thead th {\n",
       "        text-align: right;\n",
       "    }\n",
       "</style>\n",
       "<table border=\"1\" class=\"dataframe\">\n",
       "  <thead>\n",
       "    <tr style=\"text-align: right;\">\n",
       "      <th></th>\n",
       "      <th>영어</th>\n",
       "      <th>수학</th>\n",
       "      <th>총점</th>\n",
       "      <th>편차</th>\n",
       "      <th>편차^2</th>\n",
       "    </tr>\n",
       "    <tr>\n",
       "      <th>학번</th>\n",
       "      <th></th>\n",
       "      <th></th>\n",
       "      <th></th>\n",
       "      <th></th>\n",
       "      <th></th>\n",
       "    </tr>\n",
       "  </thead>\n",
       "  <tbody>\n",
       "    <tr>\n",
       "      <th>35</th>\n",
       "      <td>37</td>\n",
       "      <td>57</td>\n",
       "      <td>94</td>\n",
       "      <td>-43.26</td>\n",
       "      <td>1871.4276</td>\n",
       "    </tr>\n",
       "  </tbody>\n",
       "</table>\n",
       "</div>"
      ],
      "text/plain": [
       "    영어  수학  총점     편차       편차^2\n",
       "학번                              \n",
       "35  37  57  94 -43.26  1871.4276"
      ]
     },
     "execution_count": 55,
     "metadata": {},
     "output_type": "execute_result"
    }
   ],
   "source": [
    "# 아웃라이너 검출\n",
    "outlier_cond = (df['총점'] > Q3 + 1.5 * IQR) | (df['총점'] < Q1 - 1.5 * IQR)\n",
    "df.loc[outlier_cond]"
   ]
  },
  {
   "cell_type": "code",
   "execution_count": 56,
   "id": "7e032057",
   "metadata": {
    "scrolled": false
   },
   "outputs": [
    {
     "data": {
      "image/png": "[encoded data removed]",
      "text/plain": [
       "<Figure size 400x500 with 1 Axes>"
      ]
     },
     "metadata": {},
     "output_type": "display_data"
    }
   ],
   "source": [
    "# 박스플롯\n",
    "fig = plt.figure(figsize=(4, 5))\n",
    "ax = fig.add_subplot(1, 1, 1)\n",
    "ax.boxplot(df['총점'])\n",
    "\n",
    "plt.show()"
   ]
  },
  {
   "cell_type": "markdown",
   "id": "27d930ac",
   "metadata": {},
   "source": [
    "### 표준화\n",
    "\n",
    "-정규화"
   ]
  },
  {
   "cell_type": "code",
   "execution_count": 57,
   "id": "167ded80",
   "metadata": {
    "scrolled": true
   },
   "outputs": [
    {
     "data": {
      "text/plain": [
       "학번\n",
       "1   -1.788697\n",
       "2    0.693963\n",
       "3   -1.079366\n",
       "4   -1.966030\n",
       "5   -0.251813\n",
       "Name: 총점, dtype: float64"
      ]
     },
     "execution_count": 57,
     "metadata": {},
     "output_type": "execute_result"
    }
   ],
   "source": [
    "z = (df['총점'] - df['총점'].mean()) / df['총점'].std()\n",
    "z.head()"
   ]
  },
  {
   "cell_type": "markdown",
   "id": "b48cf451",
   "metadata": {},
   "source": [
    "-min-max 표준화"
   ]
  },
  {
   "cell_type": "code",
   "execution_count": 58,
   "id": "896af187",
   "metadata": {
    "scrolled": true
   },
   "outputs": [
    {
     "data": {
      "text/plain": [
       "학번\n",
       "1    0.175676\n",
       "2    0.743243\n",
       "3    0.337838\n",
       "4    0.135135\n",
       "5    0.527027\n",
       "Name: 총점, dtype: float64"
      ]
     },
     "execution_count": 58,
     "metadata": {},
     "output_type": "execute_result"
    }
   ],
   "source": [
    "mms = (df['총점'] - df['총점'].min()) / (df['총점'].max() - df['총점'].min())\n",
    "mms.head()"
   ]
  },
  {
   "cell_type": "markdown",
   "id": "3162c47a",
   "metadata": {},
   "source": [
    "map()을 iterable객체를 funotion을 적용, 라벨링 하여 집계할떄 사용."
   ]
  },
  {
   "cell_type": "markdown",
   "id": "adba40a9",
   "metadata": {},
   "source": [
    "# 도수분포\n",
    "freq: 빈도 수 \n",
    "\n",
    "bin_edges: 구간의 간격\n",
    "\n",
    "histogram(데이터, bins=, range=)\n",
    "\n",
    "bins=: 구간의 수\n",
    "\n",
    "range=: 구간의 범위 "
   ]
  },
  {
   "cell_type": "code",
   "execution_count": 59,
   "id": "54799532",
   "metadata": {},
   "outputs": [
    {
     "data": {
      "text/plain": [
       "array([ 0,  0,  0,  2,  8, 16, 18,  6,  0,  0], dtype=int64)"
      ]
     },
     "execution_count": 59,
     "metadata": {},
     "output_type": "execute_result"
    }
   ],
   "source": [
    "freq, bin_edges = np.histogram(df['영어'], bins=10, range=(0,100))\n",
    "freq"
   ]
  },
  {
   "cell_type": "code",
   "execution_count": 60,
   "id": "a54e5a79",
   "metadata": {},
   "outputs": [
    {
     "data": {
      "text/plain": [
       "array([  0.,  10.,  20.,  30.,  40.,  50.,  60.,  70.,  80.,  90., 100.])"
      ]
     },
     "execution_count": 60,
     "metadata": {},
     "output_type": "execute_result"
    }
   ],
   "source": [
    "bin_edges    #실수여서 .이 붙어있음"
   ]
  },
  {
   "cell_type": "code",
   "execution_count": 61,
   "id": "9a09711a",
   "metadata": {},
   "outputs": [
    {
     "data": {
      "text/plain": [
       "[0, 10, 20, 30, 40, 50, 60, 70, 80, 90, 100]"
      ]
     },
     "execution_count": 61,
     "metadata": {},
     "output_type": "execute_result"
    }
   ],
   "source": [
    "#정수로 변환\n",
    "bin_edges = list(map(int, bin_edges))\n",
    "bin_edges"
   ]
  },
  {
   "cell_type": "code",
   "execution_count": 62,
   "id": "f7eea73b",
   "metadata": {},
   "outputs": [
    {
     "data": {
      "text/plain": [
       "[' 0 ~ 10',\n",
       " '10 ~ 20',\n",
       " '20 ~ 30',\n",
       " '30 ~ 40',\n",
       " '40 ~ 50',\n",
       " '50 ~ 60',\n",
       " '60 ~ 70',\n",
       " '70 ~ 80',\n",
       " '80 ~ 90',\n",
       " '90 ~ 100']"
      ]
     },
     "execution_count": 62,
     "metadata": {},
     "output_type": "execute_result"
    }
   ],
   "source": [
    "score_class = [f'{i:>2} ~ {i+10}' for i in bin_edges[0:10]]\n",
    "score_class"
   ]
  },
  {
   "cell_type": "code",
   "execution_count": 63,
   "id": "cf25cc1a",
   "metadata": {},
   "outputs": [
    {
     "data": {
      "text/plain": [
       "[5, 15, 25, 35, 45, 55, 65, 75, 85, 95]"
      ]
     },
     "execution_count": 63,
     "metadata": {},
     "output_type": "execute_result"
    }
   ],
   "source": [
    "class_value = [(i + (i + 10)) // 2 for i in bin_edges[0:10]]\n",
    "class_value"
   ]
  },
  {
   "cell_type": "code",
   "execution_count": 64,
   "id": "1e95a08d",
   "metadata": {},
   "outputs": [
    {
     "data": {
      "text/plain": [
       "array([0.  , 0.  , 0.  , 0.04, 0.16, 0.32, 0.36, 0.12, 0.  , 0.  ])"
      ]
     },
     "execution_count": 64,
     "metadata": {},
     "output_type": "execute_result"
    }
   ],
   "source": [
    "rel_freq = freq / freq.sum()\n",
    "rel_freq"
   ]
  },
  {
   "cell_type": "code",
   "execution_count": 65,
   "id": "56ddc5c0",
   "metadata": {},
   "outputs": [
    {
     "data": {
      "text/plain": [
       "array([0.  , 0.  , 0.  , 0.04, 0.2 , 0.52, 0.88, 1.  , 1.  , 1.  ])"
      ]
     },
     "execution_count": 65,
     "metadata": {},
     "output_type": "execute_result"
    }
   ],
   "source": [
    "cum_rel_freq = np.cumsum(rel_freq)\n",
    "cum_rel_freq"
   ]
  },
  {
   "cell_type": "code",
   "execution_count": 71,
   "id": "f35b2ac8",
   "metadata": {},
   "outputs": [
    {
     "data": {
      "text/html": [
       "<div>\n",
       "<style scoped>\n",
       "    .dataframe tbody tr th:only-of-type {\n",
       "        vertical-align: middle;\n",
       "    }\n",
       "\n",
       "    .dataframe tbody tr th {\n",
       "        vertical-align: top;\n",
       "    }\n",
       "\n",
       "    .dataframe thead th {\n",
       "        text-align: right;\n",
       "    }\n",
       "</style>\n",
       "<table border=\"1\" class=\"dataframe\">\n",
       "  <thead>\n",
       "    <tr style=\"text-align: right;\">\n",
       "      <th></th>\n",
       "      <th>계급값</th>\n",
       "      <th>빈도</th>\n",
       "      <th>상대도수</th>\n",
       "      <th>누적상대도수</th>\n",
       "    </tr>\n",
       "    <tr>\n",
       "      <th>계급</th>\n",
       "      <th></th>\n",
       "      <th></th>\n",
       "      <th></th>\n",
       "      <th></th>\n",
       "    </tr>\n",
       "  </thead>\n",
       "  <tbody>\n",
       "    <tr>\n",
       "      <th>0 ~ 10</th>\n",
       "      <td>5</td>\n",
       "      <td>0</td>\n",
       "      <td>0.00</td>\n",
       "      <td>0.00</td>\n",
       "    </tr>\n",
       "    <tr>\n",
       "      <th>10 ~ 20</th>\n",
       "      <td>15</td>\n",
       "      <td>0</td>\n",
       "      <td>0.00</td>\n",
       "      <td>0.00</td>\n",
       "    </tr>\n",
       "    <tr>\n",
       "      <th>20 ~ 30</th>\n",
       "      <td>25</td>\n",
       "      <td>0</td>\n",
       "      <td>0.00</td>\n",
       "      <td>0.00</td>\n",
       "    </tr>\n",
       "    <tr>\n",
       "      <th>30 ~ 40</th>\n",
       "      <td>35</td>\n",
       "      <td>2</td>\n",
       "      <td>0.04</td>\n",
       "      <td>0.04</td>\n",
       "    </tr>\n",
       "    <tr>\n",
       "      <th>40 ~ 50</th>\n",
       "      <td>45</td>\n",
       "      <td>8</td>\n",
       "      <td>0.16</td>\n",
       "      <td>0.20</td>\n",
       "    </tr>\n",
       "    <tr>\n",
       "      <th>50 ~ 60</th>\n",
       "      <td>55</td>\n",
       "      <td>16</td>\n",
       "      <td>0.32</td>\n",
       "      <td>0.52</td>\n",
       "    </tr>\n",
       "    <tr>\n",
       "      <th>60 ~ 70</th>\n",
       "      <td>65</td>\n",
       "      <td>18</td>\n",
       "      <td>0.36</td>\n",
       "      <td>0.88</td>\n",
       "    </tr>\n",
       "    <tr>\n",
       "      <th>70 ~ 80</th>\n",
       "      <td>75</td>\n",
       "      <td>6</td>\n",
       "      <td>0.12</td>\n",
       "      <td>1.00</td>\n",
       "    </tr>\n",
       "    <tr>\n",
       "      <th>80 ~ 90</th>\n",
       "      <td>85</td>\n",
       "      <td>0</td>\n",
       "      <td>0.00</td>\n",
       "      <td>1.00</td>\n",
       "    </tr>\n",
       "    <tr>\n",
       "      <th>90 ~ 100</th>\n",
       "      <td>95</td>\n",
       "      <td>0</td>\n",
       "      <td>0.00</td>\n",
       "      <td>1.00</td>\n",
       "    </tr>\n",
       "  </tbody>\n",
       "</table>\n",
       "</div>"
      ],
      "text/plain": [
       "          계급값  빈도  상대도수  누적상대도수\n",
       "계급                             \n",
       " 0 ~ 10     5   0  0.00    0.00\n",
       "10 ~ 20    15   0  0.00    0.00\n",
       "20 ~ 30    25   0  0.00    0.00\n",
       "30 ~ 40    35   2  0.04    0.04\n",
       "40 ~ 50    45   8  0.16    0.20\n",
       "50 ~ 60    55  16  0.32    0.52\n",
       "60 ~ 70    65  18  0.36    0.88\n",
       "70 ~ 80    75   6  0.12    1.00\n",
       "80 ~ 90    85   0  0.00    1.00\n",
       "90 ~ 100   95   0  0.00    1.00"
      ]
     },
     "execution_count": 71,
     "metadata": {},
     "output_type": "execute_result"
    }
   ],
   "source": [
    "freq_df = pd.DataFrame({'계급값': class_value, '빈도':freq, '상대도수':rel_freq, '누적상대도수':cum_rel_freq},\n",
    "                       index=pd.Index(score_class, name='계급'))\n",
    "freq_df"
   ]
  },
  {
   "cell_type": "code",
   "execution_count": 73,
   "id": "9c7a50af",
   "metadata": {},
   "outputs": [
    {
     "data": {
      "text/plain": [
       "'60 ~ 70'"
      ]
     },
     "execution_count": 73,
     "metadata": {},
     "output_type": "execute_result"
    }
   ],
   "source": [
    "freq_df['빈도'].idxmax()"
   ]
  },
  {
   "cell_type": "code",
   "execution_count": 75,
   "id": "fcb613ae",
   "metadata": {
    "scrolled": true
   },
   "outputs": [
    {
     "data": {
      "text/html": [
       "<div>\n",
       "<style scoped>\n",
       "    .dataframe tbody tr th:only-of-type {\n",
       "        vertical-align: middle;\n",
       "    }\n",
       "\n",
       "    .dataframe tbody tr th {\n",
       "        vertical-align: top;\n",
       "    }\n",
       "\n",
       "    .dataframe thead th {\n",
       "        text-align: right;\n",
       "    }\n",
       "</style>\n",
       "<table border=\"1\" class=\"dataframe\">\n",
       "  <thead>\n",
       "    <tr style=\"text-align: right;\">\n",
       "      <th></th>\n",
       "      <th>계급값</th>\n",
       "      <th>빈도</th>\n",
       "      <th>상대도수</th>\n",
       "      <th>누적상대도수</th>\n",
       "    </tr>\n",
       "    <tr>\n",
       "      <th>계급</th>\n",
       "      <th></th>\n",
       "      <th></th>\n",
       "      <th></th>\n",
       "      <th></th>\n",
       "    </tr>\n",
       "  </thead>\n",
       "  <tbody>\n",
       "    <tr>\n",
       "      <th>60 ~ 70</th>\n",
       "      <td>65</td>\n",
       "      <td>18</td>\n",
       "      <td>0.36</td>\n",
       "      <td>0.88</td>\n",
       "    </tr>\n",
       "  </tbody>\n",
       "</table>\n",
       "</div>"
      ],
      "text/plain": [
       "         계급값  빈도  상대도수  누적상대도수\n",
       "계급                            \n",
       "60 ~ 70   65  18  0.36    0.88"
      ]
     },
     "execution_count": 75,
     "metadata": {},
     "output_type": "execute_result"
    }
   ],
   "source": [
    "freq_df.loc[[freq_df['빈도'].idxmax()],:]"
   ]
  },
  {
   "cell_type": "code",
   "execution_count": 78,
   "id": "173d6cb3",
   "metadata": {},
   "outputs": [
    {
     "data": {
      "image/png": "[encoded data removed]",
      "text/plain": [
       "<Figure size 1000x600 with 1 Axes>"
      ]
     },
     "metadata": {},
     "output_type": "display_data"
    }
   ],
   "source": [
    "fig = plt.figure(figsize=(10, 6))\n",
    "ax = fig.add_subplot(1, 1, 1)\n",
    "\n",
    "freq, *_ = ax.hist(df['영어'], bins=10, range=(0, 100))\n",
    "\n",
    "ax.set_xlabel('점수')\n",
    "ax.set_ylabel('학생 수')\n",
    "ax.set_xticks(np.linspace(0, 100, 11))\n",
    "ax.set_yticks(np.arange(0, freq.max()+1))\n",
    "\n",
    "plt.show()"
   ]
  },
  {
   "cell_type": "code",
   "execution_count": 79,
   "id": "fe8796d0",
   "metadata": {},
   "outputs": [
    {
     "data": {
      "image/png": "[encoded data removed]",
      "text/plain": [
       "<Figure size 1000x600 with 1 Axes>"
      ]
     },
     "metadata": {},
     "output_type": "display_data"
    }
   ],
   "source": [
    "fig = plt.figure(figsize=(10, 6))\n",
    "ax = fig.add_subplot(1, 1, 1)\n",
    "\n",
    "freq, *_ = ax.hist(df['영어'], bins=20, range=(0, 100))\n",
    "\n",
    "ax.set_xlabel('점수')\n",
    "ax.set_ylabel('학생 수')\n",
    "ax.set_xticks(np.linspace(0, 100, 21))\n",
    "ax.set_yticks(np.arange(0, freq.max()+1))\n",
    "\n",
    "plt.show()"
   ]
  },
  {
   "cell_type": "code",
   "execution_count": 82,
   "id": "3d9ec735",
   "metadata": {},
   "outputs": [
    {
     "data": {
      "image/png": "[encoded data removed]",
      "text/plain": [
       "<Figure size 1000x600 with 2 Axes>"
      ]
     },
     "metadata": {},
     "output_type": "display_data"
    }
   ],
   "source": [
    "fig = plt.figure(figsize=(10, 6))\n",
    "ax1 = fig.add_subplot(1, 1, 1)\n",
    "ax2 = ax1.twinx()\n",
    "\n",
    "weights = np.ones_like(df['영어']) / df['영어'].shape[0]\n",
    "freq, *_ = ax1.hist(df['영어'], bins=20, range=(0, 100), weights=weights)\n",
    "\n",
    "cum_rel_freq = np.cumsum(freq)\n",
    "class_value = [i+(i+5) // 2 for i in range(0,100,5)]\n",
    "\n",
    "ax2.plot(class_value, cum_rel_freq, ls='--', marker='o', color='gray')\n",
    "\n",
    "ax1.set_xlabel('점수')\n",
    "ax1.set_ylabel('학생 수')\n",
    "ax2.set_ylabel('누적상대도수')\n",
    "ax1.set_xticks(np.linspace(0, 100, 21))\n",
    "\n",
    "\n",
    "plt.show()"
   ]
  }
 ],
 "metadata": {
  "kernelspec": {
   "display_name": "'SA'",
   "language": "python",
   "name": "stats"
  },
  "language_info": {
   "codemirror_mode": {
    "name": "ipython",
    "version": 3
   },
   "file_extension": ".py",
   "mimetype": "text/x-python",
   "name": "python",
   "nbconvert_exporter": "python",
   "pygments_lexer": "ipython3",
   "version": "3.8.16"
  }
 },
 "nbformat": 4,
 "nbformat_minor": 5
}
