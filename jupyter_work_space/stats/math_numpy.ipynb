{
 "cells": [
  {
   "cell_type": "code",
   "execution_count": 22,
   "metadata": {},
   "outputs": [],
   "source": [
    "import numpy as np"
   ]
  },
  {
   "cell_type": "markdown",
   "metadata": {},
   "source": [
    "* 각 과목별 점수는 5점 단위로 40점 ~ 90점 사이의 점수를 가집니다.\n",
    "* numpy.random 모듈의 choice 함수를 이용해 학생 30명의 4개 과목 점수를 생성해 행렬을 생성합니다.\n",
    "* 이 때, 난수의 시드(seed) 값은 42로 지정합니다."
   ]
  },
  {
   "cell_type": "code",
   "execution_count": 38,
   "metadata": {},
   "outputs": [
    {
     "name": "stdout",
     "output_type": "stream",
     "text": [
      "[array([70, 55, 90, 75]), array([60, 70, 85, 50]), array([70, 90, 90, 75]), array([60, 55, 75, 75]), array([50, 65, 60, 45]), array([75, 65, 45, 60]), array([40, 85, 65, 80]), array([40, 90, 90, 85]), array([50, 70, 55, 80]), array([50, 60, 50, 70]), array([60, 80, 70, 45]), array([55, 80, 45, 85]), array([80, 85, 60, 45]), array([55, 70, 75, 50]), array([40, 55, 45, 75]), array([55, 45, 65, 65]), array([85, 55, 65, 45]), array([85, 45, 85, 55]), array([75, 70, 80, 75]), array([60, 45, 60, 75]), array([85, 80, 80, 40]), array([80, 70, 80, 75]), array([40, 75, 75, 90]), array([50, 40, 75, 50]), array([50, 40, 90, 60]), array([85, 70, 85, 80]), array([70, 80, 75, 45]), array([40, 70, 70, 75]), array([60, 50, 75, 65]), array([90, 50, 40, 50])]\n"
     ]
    }
   ],
   "source": [
    "np.random.seed(42)\n",
    "scr = []\n",
    "for _ in range(30):\n",
    "    scr.append(np.random.choice(range(40,91,5),4))"
   ]
  },
  {
   "cell_type": "markdown",
   "metadata": {},
   "source": [
    "* 채점이 이루어진 후 과목별 난이도에 따른 점수 조정이 이루어지는데, 학생별 총점 데이터가 다음과 같을 때의 과목별 보정계수(correction_factor)를 구하십시오. "
   ]
  },
  {
   "cell_type": "code",
   "execution_count": 3,
   "metadata": {},
   "outputs": [
    {
     "data": {
      "text/plain": [
       "array([300.8 , 274.4 , 337.55, 275.4 , 228.4 , 255.45, 281.45, 317.05,\n",
       "       266.1 , 239.9 , 264.55, 277.15, 280.6 , 259.2 , 224.6 , 239.  ,\n",
       "       259.3 , 279.5 , 311.75, 249.9 , 295.2 , 316.95, 291.65, 222.5 ,\n",
       "       248.2 , 332.5 , 279.95, 265.35, 259.45, 239.6 ])"
      ]
     },
     "execution_count": 3,
     "metadata": {},
     "output_type": "execute_result"
    }
   ],
   "source": [
    "total = np.array([300.8, 274.4, 337.55, 275.4, 228.4, 255.45, 281.45, 317.05, 266.1, 239.9, \n",
    "                 264.55, 277.15, 280.6, 259.2, 224.6, 239., 259.3, 279.5, 311.75, 249.9, \n",
    "                 295.2, 316.95, 291.65, 222.5, 248.2, 332.5, 279.95, 265.35, 259.45, 239.6])\n",
    "total"
   ]
  },
  {
   "cell_type": "code",
   "execution_count": 4,
   "metadata": {},
   "outputs": [],
   "source": [
    "# 여기에 코드를 작성하십시오"
   ]
  },
  {
   "cell_type": "markdown",
   "metadata": {},
   "source": [
    "* 보정계수로 점수를 조정해서 총점이 맞는지 확인해 봅니다."
   ]
  },
  {
   "cell_type": "code",
   "execution_count": 5,
   "metadata": {},
   "outputs": [],
   "source": [
    "# 여기에 코드를 작성하십시오"
   ]
  }
 ],
 "metadata": {
  "kernelspec": {
   "display_name": "Python 3 (ipykernel)",
   "language": "python",
   "name": "python3"
  },
  "language_info": {
   "codemirror_mode": {
    "name": "ipython",
    "version": 3
   },
   "file_extension": ".py",
   "mimetype": "text/x-python",
   "name": "python",
   "nbconvert_exporter": "python",
   "pygments_lexer": "ipython3",
   "version": "3.8.16"
  }
 },
 "nbformat": 4,
 "nbformat_minor": 2
}
