{
 "cells": [
  {
   "cell_type": "code",
   "execution_count": 2,
   "metadata": {},
   "outputs": [],
   "source": [
    "import requests"
   ]
  },
  {
   "cell_type": "code",
   "execution_count": 6,
   "metadata": {},
   "outputs": [
    {
     "name": "stdout",
     "output_type": "stream",
     "text": [
      "Hello there, 하이 바이!\n"
     ]
    }
   ],
   "source": [
    "url = 'https://pythonscraping.com/pages/processing.php'\n",
    "data = {'firstname' : '하이', 'lastname' : '바이'}\n",
    "res = requests.post(url, data)\n",
    "print(res.text)"
   ]
  },
  {
   "attachments": {},
   "cell_type": "markdown",
   "metadata": {},
   "source": [
    "post방식은 데이터를 entity에 넣는다.\n",
    "get의 데이터는 head에 담아서 보낸다.(주소애 보인다.)"
   ]
  },
  {
   "attachments": {},
   "cell_type": "markdown",
   "metadata": {},
   "source": [
    "1. get을 사용해 login.html을 요청\n",
    "2. 그후 post를통해 id와 paswd를 보냄 welcom.php로\n",
    "3. welcom페이지를 받음\n",
    "4. get.profile.php를 보냄\n",
    "5. protile페이지를 받음"
   ]
  },
  {
   "cell_type": "code",
   "execution_count": 8,
   "metadata": {},
   "outputs": [
    {
     "name": "stdout",
     "output_type": "stream",
     "text": [
      "\n",
      "<h2>Welcome to the Website!</h2>\n",
      "Whoops! You logged in wrong. Try again with any username, and the password \"password\"<br><a href=\"login.html\">Log in here</a>\n"
     ]
    }
   ],
   "source": [
    "url = 'https://pythonscraping.com/pages/cookies/welcome.php'\n",
    "data = {'username' : '아무거나', 'password' : 'password'}\n",
    "\n",
    "res = requests.post(url, data)\n",
    "print(res.text)"
   ]
  },
  {
   "cell_type": "code",
   "execution_count": 15,
   "metadata": {},
   "outputs": [
    {
     "name": "stdout",
     "output_type": "stream",
     "text": [
      "You're not logged into the site!<br>Visit <a href=\"login.html\">the login page</a> to log in\n"
     ]
    }
   ],
   "source": [
    "profile_url = 'https://pythonscraping.com/pages/cookies/profile.php'\n",
    "res = requests.get(profile_url)\n",
    "print(res.text)"
   ]
  },
  {
   "attachments": {},
   "cell_type": "markdown",
   "metadata": {},
   "source": [
    "쿠키를 검사하는 페이지라서 입력을 해도 입력이 안됨."
   ]
  },
  {
   "cell_type": "code",
   "execution_count": 14,
   "metadata": {},
   "outputs": [
    {
     "name": "stdout",
     "output_type": "stream",
     "text": [
      "{'loggedin': '1', 'username': '%EC%95%84%EB%AC%B4%EA%B1%B0%EB%82%98'}\n",
      "Hey 아무거나! Looks like you're still logged into the site!\n"
     ]
    }
   ],
   "source": [
    "# session을 사용하여 로그인 정보를 저장하여 들어감. \n",
    "welcom_url = 'https://pythonscraping.com/pages/cookies/welcome.php'\n",
    "data = {'username' : '아무거나', 'password' : 'password'}\n",
    "\n",
    "# 상태유지를 시켜준다. 쿠키\n",
    "session = requests.Session()\n",
    "# session으로 post호출\n",
    "res = session.post(welcom_url, data)\n",
    "print(res.cookies.get_dict())\n",
    "\n",
    "# 로그인 정보로 프로파일 데이터 불러오기\n",
    "profile_url = 'https://pythonscraping.com/pages/cookies/profile.php'\n",
    "res = session.get(profile_url)\n",
    "print(res.text)"
   ]
  }
 ],
 "metadata": {
  "kernelspec": {
   "display_name": "'Web_Croawling'",
   "language": "python",
   "name": "wed_crawling"
  },
  "language_info": {
   "codemirror_mode": {
    "name": "ipython",
    "version": 3
   },
   "file_extension": ".py",
   "mimetype": "text/x-python",
   "name": "python",
   "nbconvert_exporter": "python",
   "pygments_lexer": "ipython3",
   "version": "3.8.16"
  },
  "orig_nbformat": 4
 },
 "nbformat": 4,
 "nbformat_minor": 2
}
