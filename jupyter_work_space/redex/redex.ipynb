{
 "cells": [
  {
   "cell_type": "code",
   "execution_count": 2,
   "metadata": {},
   "outputs": [],
   "source": [
    "import re"
   ]
  },
  {
   "cell_type": "code",
   "execution_count": 9,
   "metadata": {},
   "outputs": [
    {
     "name": "stdout",
     "output_type": "stream",
     "text": [
      "(1) 011-1111-1111\n",
      "(1)\n",
      "011\n",
      "1111\n",
      "1111\n"
     ]
    }
   ],
   "source": [
    "string = '''(1) 011-1111-1111\n",
    "(82) 023-4567-8910\n",
    "(302) 08-765-4321\n",
    "(02) 010-068-4598'''\n",
    "# r'' row스트링 원시스트링 파이썬의 \\의 기능을 비활성화함.\n",
    "pattern = r'(\\([1-9]\\d{0,2}\\)) ([0]\\d{1,2})-([1-9]\\d{2,3})-(\\d{4})'\n",
    "# search는 처음찾은 하나만 찾음\n",
    "match = re.search(pattern, string)\n",
    "\n",
    "if match:\n",
    "    # 패턴을 짤때 그룹을 해두면 번호로 뽑을 수 있음\n",
    "    print(f'{match.group()}')\n",
    "    print(f'{match.group(1)}')\n",
    "    print(f'{match.group(2)}')\n",
    "    print(f'{match.group(3)}')\n",
    "    print(f'{match.group(4)}')\n",
    "else:\n",
    "    print('not found!')"
   ]
  },
  {
   "cell_type": "code",
   "execution_count": 12,
   "metadata": {},
   "outputs": [
    {
     "name": "stdout",
     "output_type": "stream",
     "text": [
      "('(1)', '011', '1111', '1111')\n",
      "(1) 011-1111-1111\n",
      "('(82)', '023', '4567', '8910')\n",
      "(82) 023-4567-8910\n",
      "('(302)', '08', '765', '4321')\n",
      "(302) 08-765-4321\n"
     ]
    }
   ],
   "source": [
    "# findall은 tuple로 반환\n",
    "match_list = re.findall(pattern, string)\n",
    "for t in match_list:\n",
    "    print(t)\n",
    "    print(f'{t[0]} {t[1]}-{t[2]}-{t[3]}')"
   ]
  },
  {
   "attachments": {},
   "cell_type": "markdown",
   "metadata": {},
   "source": [
    "이메일"
   ]
  },
  {
   "cell_type": "code",
   "execution_count": 17,
   "metadata": {},
   "outputs": [
    {
     "name": "stdout",
     "output_type": "stream",
     "text": [
      "abc@abc.com\n",
      "abc@abc.co.kr\n",
      "a.bc@abc.co.kr\n",
      "a_bc@abc.com\n"
     ]
    }
   ],
   "source": [
    "# ([a-z0-9._-]*)@([a-z0-9]*)\\.(com|co\\.kr)\n",
    "# ([\\w._-]*)@([\\w]*)\\.(com|co\\.kr)\n",
    "email_pattern = r'([\\w._-]+)@([\\w]+)\\.([\\w]{3}|[\\w]{2}\\.[\\w]{2,3})'\n",
    "email_list = \"\"\"abc\n",
    "abc@abc.com\n",
    "abc@abc.co.kr\n",
    "a.bc@abc.co.kr\n",
    "a_bc@abc.com\n",
    "abc@\n",
    "@abc.com\n",
    "abc.com\n",
    "\"\"\"\n",
    "\n",
    "match_list = re.findall(email_pattern,email_list)\n",
    "for t in match_list:\n",
    "    print(f'{t[0]}@{t[1]}.{t[2]}')"
   ]
  }
 ],
 "metadata": {
  "kernelspec": {
   "display_name": "'Web_Croawling'",
   "language": "python",
   "name": "wed_crawling"
  },
  "language_info": {
   "codemirror_mode": {
    "name": "ipython",
    "version": 3
   },
   "file_extension": ".py",
   "mimetype": "text/x-python",
   "name": "python",
   "nbconvert_exporter": "python",
   "pygments_lexer": "ipython3",
   "version": "3.8.16"
  },
  "orig_nbformat": 4
 },
 "nbformat": 4,
 "nbformat_minor": 2
}
